{
 "cells": [
  {
   "cell_type": "markdown",
   "id": "c572cfd4",
   "metadata": {},
   "source": [
    "# 🎯 **Demo 2: Gmail & Jira Agent Tools with LangChain**\n",
    "\n",
    "In this notebook, we will manually test custom tools for Gmail and Jira integration, and then orchestrate them using a LangChain agent and LLM.\n",
    "\n"
   ]
  },
  {
   "cell_type": "markdown",
   "id": "3708e7ad",
   "metadata": {},
   "source": [
    "### 📝 **Table of Contents**\n",
    "\n",
    "1. 🛠️ Objectives  \n",
    "2. 📦 Install Dependencies  \n",
    "3. 🔑 Configure Environment & API Keys  \n",
    "4. ✉️ Manual Testing: Gmail Tools  \n",
    "5. 🐞 Manual Testing: Jira Tools  \n",
    "6. 🤖 Agent Demo: End-to-End Support Scenario  \n",
    "7. ✅ Conclusions  \n"
   ]
  },
  {
   "cell_type": "markdown",
   "id": "47fbd359",
   "metadata": {},
   "source": [
    "### 🛠️ **Objectives**\n",
    "\n",
    "- Test individual Gmail and Jira tools to verify authentication and functionality.\n",
    "- Demonstrate sending emails, reading emails, creating calendar events, and managing Jira tickets/comments.\n",
    "- Build a simple agent that automates a support workflow:  \n",
    "  - **Find emails about bugs/failures, create a Jira issue, and schedule a meeting.**\n",
    "- Share conclusions and next steps for production integration.\n"
   ]
  },
  {
   "cell_type": "code",
   "execution_count": 1,
   "id": "75cf596e",
   "metadata": {},
   "outputs": [],
   "source": [
    "# Uncomment if running on Colab or Jupyter the first time\n",
    "# !pip install langchain langchain-openai google-api-python-client google-auth google-auth-oauthlib jira python-dotenv --quiet"
   ]
  },
  {
   "cell_type": "code",
   "execution_count": 1,
   "id": "7e133026",
   "metadata": {},
   "outputs": [],
   "source": [
    "import os\n",
    "from dotenv import load_dotenv\n",
    "from datetime import datetime, timedelta"
   ]
  },
  {
   "cell_type": "code",
   "execution_count": 2,
   "id": "c504f4fe",
   "metadata": {},
   "outputs": [
    {
     "data": {
      "text/plain": [
       "True"
      ]
     },
     "execution_count": 2,
     "metadata": {},
     "output_type": "execute_result"
    }
   ],
   "source": [
    "# Load environment variables from .env file\n",
    "load_dotenv(override=True)"
   ]
  },
  {
   "cell_type": "markdown",
   "id": "f5faf954",
   "metadata": {},
   "source": [
    "---\n",
    "\n",
    "### 🔍 **Why Manual Tool Testing Matters**\n",
    "\n",
    "Before integrating individual tools into an automated agent workflow, it is crucial to validate that each tool works as expected when used in isolation. Manual testing provides several key benefits:\n",
    "\n",
    "- **Reliability:** Verifies that authentication, inputs, and outputs for each tool are correct, ensuring consistent behavior.\n",
    "- **Debugging:** Makes it easier to identify and fix errors in connectivity, permissions, or logic before they are compounded in an agent-driven pipeline.\n",
    "- **Transparency:** Offers direct feedback on how each tool interacts with external services (like Gmail or Jira), helping you understand their responses and limitations.\n",
    "- **Incremental Development:** Allows you to refine and improve each tool independently, building a strong foundation for robust automation.\n",
    "- **Confidence:** Ensures that when tools are combined in an agent, unexpected failures are minimized and the overall workflow remains robust.\n",
    "\n",
    "Manual testing is a best practice for any complex integration, and it saves time and effort during later stages of automation and scaling.\n",
    "\n",
    "---"
   ]
  },
  {
   "cell_type": "markdown",
   "id": "249dd75d",
   "metadata": {},
   "source": [
    "### ✉️ **MANUAL TESTING: GMAIL TOOLS**"
   ]
  },
  {
   "cell_type": "code",
   "execution_count": 4,
   "id": "c895ccac",
   "metadata": {},
   "outputs": [],
   "source": [
    "from src.tools.google_tools import (\n",
    "    authenticate_google, send_email_tool, create_event_tool,\n",
    "    read_email_query, generate_gmail_query\n",
    ")"
   ]
  },
  {
   "cell_type": "code",
   "execution_count": 11,
   "id": "2d22edbf",
   "metadata": {},
   "outputs": [
    {
     "name": "stdout",
     "output_type": "stream",
     "text": [
      "🔒 Authenticating Google...\n",
      "✅ Google authentication successful.\n"
     ]
    }
   ],
   "source": [
    "print(\"🔒 Authenticating Google...\")\n",
    "print(authenticate_google.invoke(\"\"))"
   ]
  },
  {
   "cell_type": "code",
   "execution_count": 12,
   "id": "38cfab9d",
   "metadata": {},
   "outputs": [
    {
     "name": "stdout",
     "output_type": "stream",
     "text": [
      "\n",
      "✉️ Sending test email...\n",
      "Email sent: ✅ Email sent successfully. ID: 197ca88b404126bb\n"
     ]
    }
   ],
   "source": [
    "# Send a test email\n",
    "print(\"\\n✉️ Sending test email...\")\n",
    "result = send_email_tool.invoke(\n",
    "    \"To: briyidcatalinacruzostos@gmail.com | Subject: [BUG] Agent Test | Body: This is a test for the agent tools demo.\"\n",
    ")\n",
    "print(f\"Email sent: {result}\")"
   ]
  },
  {
   "cell_type": "code",
   "execution_count": 13,
   "id": "410ab0c4",
   "metadata": {},
   "outputs": [
    {
     "name": "stdout",
     "output_type": "stream",
     "text": [
      "\n",
      "🤖 Generating Gmail search query for 'emails with bugs or failures'...\n",
      "Generated query: subject:[BUG] OR subject:[FAILURE]\n"
     ]
    }
   ],
   "source": [
    "# Generate a Gmail query using LLM\n",
    "print(\"\\n🤖 Generating Gmail search query for 'emails with bugs or failures'...\")\n",
    "query = generate_gmail_query.invoke(\n",
    "    \"Show all emails with subject containing bugs or failures\"\n",
    ")\n",
    "print(\"Generated query:\", query)"
   ]
  },
  {
   "cell_type": "code",
   "execution_count": 14,
   "id": "2f3aff4a",
   "metadata": {},
   "outputs": [
    {
     "name": "stdout",
     "output_type": "stream",
     "text": [
      "\n",
      "📥 Reading emails matching the query...\n",
      "🧾 From: briyidcatalinacruzostos@gmail.com\n",
      "📌 Subject: (No subject)\n",
      "📄 Body: ...\n",
      "\n",
      "🧾 From: briyidcatalinacruzostos@gmail.com\n",
      "📌 Subject: (No subject)\n",
      "📄 Body: ...\n",
      "\n",
      "🧾 From: briyidcatalinacruzostos@gmail.com\n",
      "📌 Subject: (No subject)\n",
      "📄 Body: ...\n",
      "\n",
      "🧾 From: CRUZ OSTOS BRIYID CATALINA <bccruzo@udistrital.edu.co>\n",
      "📌 Subject: [BUG] El LLM no interpreta correctamente instrucciones encadenadas en el demo Math + Search\n",
      "📄 Body: Hola equipo, Durante las pruebas del demo en LangChain que combina las herramientas de matemáticas y búsqueda, identifiqué una falla en la interpretación del LLM frente a prompts que requieren razonamiento secuencial. Comportamiento observado: Prompt utilizado: \"Calcula 12 × 8 y luego busca si ese número es un récord olímpico en levantamiento de pesas.\" Resultado: El LLM responde únicamente con la operación matemática (96) y no continúa con la segunda parte de la instrucción. En algunas ocasione...\n",
      "\n",
      "🧾 From: CRUZ OSTOS BRIYID CATALINA <bccruzo@udistrital.edu.co>\n",
      "📌 Subject: [BUG] Error al combinar herramientas Math y Search en demo LangChain\n",
      "📄 Body: Hola equipo, Durante la ejecución del demo que integra las herramientas de matemáticas y búsqueda en LangChain, encontré un comportamiento inesperado. El agente lanza una excepción cuando intenta usar la herramienta de búsqueda inmediatamente después de realizar una operación matemática. Detalles del bug: Entorno: LangChain con herramientas @tool personalizadas (math_tool, search_tool) Prompt de prueba: \"¿Cuál es la raíz cuadrada de 144? Luego, busca en internet el significado de raíz cuadrada.\"...\n",
      "\n",
      "🧾 From: CRUZ OSTOS BRIYID CATALINA <bccruzo@udistrital.edu.co>\n",
      "📌 Subject: BUG AGENTE LANGCHAIN\n",
      "📄 Body: Tool Calling errors Obtener Outlook para Android<https://aka.ms/AAb9ysg>...\n",
      "\n",
      "🧾 From: CRUZ OSTOS BRIYID CATALINA <bccruzo@udistrital.edu.co>\n",
      "📌 Subject: FAILURE TOOL CALLING\n",
      "📄 Body: Failure tool calling demo agent. Obtener Outlook para Android<https://aka.ms/AAb9ysg>...\n",
      "\n",
      "🧾 From: briyidcatalinacruzostos@gmail.com\n",
      "📌 Subject: (No subject)\n",
      "📄 Body: ...\n",
      "\n",
      "🧾 From: briyidcatalinacruzostos@gmail.com\n",
      "📌 Subject: (No subject)\n",
      "📄 Body: ...\n",
      "\n",
      "🧾 From: briyidcatalinacruzostos@gmail.com\n",
      "📌 Subject: (No subject)\n",
      "📄 Body: ...\n"
     ]
    }
   ],
   "source": [
    "# Read emails using the generated query (search everywhere!)\n",
    "print(\"\\n📥 Reading emails matching the query...\")\n",
    "emails = read_email_query.invoke(f\"in:anywhere {query}\")\n",
    "print(emails)"
   ]
  },
  {
   "cell_type": "code",
   "execution_count": 15,
   "id": "d3aec81c",
   "metadata": {},
   "outputs": [
    {
     "name": "stdout",
     "output_type": "stream",
     "text": [
      "\n",
      "📅 Creating a calendar event with Meet...\n",
      "📅 Event created successfully.\n",
      "🔗 Event link: https://www.google.com/calendar/event?eid=ODkyZThnb2oxcnNmMW5lNmY3aDZiZm52NXMgYnJpeWlkY2F0YWxpbmFjcnV6b3N0b3NAbQ\n",
      "📹 Google Meet: https://meet.google.com/wjw-jxqq-cfy\n"
     ]
    }
   ],
   "source": [
    "# Create a Google Calendar event for tomorrow at 10:00 AM\n",
    "tomorrow = (datetime.now() + timedelta(days=1)).strftime(\"%Y-%m-%d\")\n",
    "event_input = f\"Title: Bug Review Meeting | Date: {tomorrow} | Time: 10:00 | Duration: 1 | Description: Review latest bug emails\"\n",
    "print(\"\\n📅 Creating a calendar event with Meet...\")\n",
    "calendar_event = create_event_tool.invoke(event_input)\n",
    "print(calendar_event)"
   ]
  },
  {
   "cell_type": "markdown",
   "id": "32d06578",
   "metadata": {},
   "source": [
    "### 🐞**MANUAL TESTING: JIRA TOOLS**"
   ]
  },
  {
   "cell_type": "code",
   "execution_count": 16,
   "id": "cb91b0ed",
   "metadata": {},
   "outputs": [],
   "source": [
    "from src.tools.jira_tools import (\n",
    "    authenticate_jira, create_jira_issue, search_jira_issues, add_jira_comment\n",
    ")"
   ]
  },
  {
   "cell_type": "code",
   "execution_count": 17,
   "id": "a039ff24",
   "metadata": {},
   "outputs": [
    {
     "name": "stdout",
     "output_type": "stream",
     "text": [
      "🔒 Authenticating Jira...\n",
      "✅ Jira authentication successful. Logged as: 712020:bd1ab35a-415f-45d7-ad5f-2406b021f61d\n"
     ]
    }
   ],
   "source": [
    "print(\"🔒 Authenticating Jira...\")\n",
    "print(authenticate_jira.invoke(\"\"))"
   ]
  },
  {
   "cell_type": "code",
   "execution_count": 18,
   "id": "cdb42ee3",
   "metadata": {},
   "outputs": [
    {
     "name": "stdout",
     "output_type": "stream",
     "text": [
      "\n",
      "🐞 Creating a Jira issue...\n",
      "✅ Issue created: [PC-15] Agent Bug Demo\n"
     ]
    }
   ],
   "source": [
    "# Create a Jira issue\n",
    "jira_issue_input = \"project:PC | summary:Agent Bug Demo | description:Testing Jira tool via notebook | issuetype:Bug\"\n",
    "print(\"\\n🐞 Creating a Jira issue...\")\n",
    "jira_result = create_jira_issue.invoke(jira_issue_input)\n",
    "print(jira_result)"
   ]
  },
  {
   "cell_type": "code",
   "execution_count": 19,
   "id": "6844fb25",
   "metadata": {},
   "outputs": [
    {
     "name": "stdout",
     "output_type": "stream",
     "text": [
      "\n",
      "🔎 Searching for recent issues...\n",
      "PC-15: Agent Bug Demo\n",
      "PC-14: Production outage\n",
      "PC-13: Bug in multiagent workflow\n",
      "PC-12: Bug reported by CRUZ OSTOS BRIYID CATALINA\n",
      "PC-11: Bug in multiagent workflow\n"
     ]
    }
   ],
   "source": [
    "# Search Jira issues\n",
    "print(\"\\n🔎 Searching for recent issues...\")\n",
    "search_result = search_jira_issues.invoke(\"project=PC AND status!=Done ORDER BY created DESC\")\n",
    "print(search_result)"
   ]
  },
  {
   "cell_type": "code",
   "execution_count": 20,
   "id": "ff51eb7c",
   "metadata": {},
   "outputs": [
    {
     "name": "stdout",
     "output_type": "stream",
     "text": [
      "\n",
      "💬 Adding comment to issue PC-6 (example)...\n",
      "💬 Comment added to PC-6.\n"
     ]
    }
   ],
   "source": [
    "# Add comment to Jira issue (change PC-1 to a real issue key as needed)\n",
    "print(\"\\n💬 Adding comment to issue PC-6 (example)...\")\n",
    "comment_result = add_jira_comment.invoke(\"issue_key:PC-6 | comment:Test comment from agent tools notebook.\")\n",
    "print(comment_result)"
   ]
  },
  {
   "cell_type": "markdown",
   "id": "e5fc76cf",
   "metadata": {},
   "source": [
    "---\n",
    "\n",
    "### 🤖 **Why Orchestrate End-to-End Agent Workflows for a Demo?**\n",
    "\n",
    "Building and demonstrating an end-to-end agent workflow provides substantial value for both technical and business audiences:\n",
    "\n",
    "- **Real-World Value:** Showcases how multiple tools can be combined to automate complex processes—such as reading emails, creating Jira issues, and scheduling meetings—without manual intervention.\n",
    "- **Clarity:** Makes it easy for stakeholders to visualize the benefits of automation, reducing human effort and errors in routine support tasks.\n",
    "- **Validation:** Helps ensure that integration points work seamlessly together, exposing gaps or edge cases that may not be apparent during isolated tool testing.\n",
    "- **Reusability:** Lays the foundation for future automation by illustrating a template that can be adapted for various business domains.\n",
    "- **Impactful Storytelling:** Turns technical capabilities into a compelling narrative, making it easier to communicate the advantages of agent-based architectures to non-technical decision makers.\n",
    "- **Innovation:** Inspires teams to adopt AI-driven automation, increasing efficiency and unlocking new possibilities for operational improvement.\n",
    "\n",
    "End-to-end orchestration not only proves technical feasibility but also demonstrates practical business impact—making it an essential step in any AI or automation initiative.\n",
    "\n",
    "---"
   ]
  },
  {
   "cell_type": "markdown",
   "id": "5f73bbcb",
   "metadata": {},
   "source": [
    "### 🤖 **AGENT DEMO: END-TO-END SUPPORT SCENARIO**"
   ]
  },
  {
   "cell_type": "code",
   "execution_count": 21,
   "id": "7b56f972",
   "metadata": {},
   "outputs": [],
   "source": [
    "\n",
    "from langchain_openai import ChatOpenAI\n",
    "from langchain.agents import create_openai_functions_agent, AgentExecutor\n",
    "from langchain.prompts import ChatPromptTemplate, MessagesPlaceholder\n",
    "from src.utils.chat_utils import save_chat_history, load_chat_history\n",
    "import json"
   ]
  },
  {
   "cell_type": "code",
   "execution_count": 22,
   "id": "24e7665f",
   "metadata": {},
   "outputs": [],
   "source": [
    "# Load previous history or start empty\n",
    "chat_history = [] # chat_history = load_chat_history(chat_history.json)"
   ]
  },
  {
   "cell_type": "code",
   "execution_count": 23,
   "id": "0574b19a",
   "metadata": {},
   "outputs": [],
   "source": [
    "# Initialize the LLM \n",
    "llm = ChatOpenAI(model=\"gpt-4\", temperature=0)\n",
    "\n",
    "# Create the list of tools for the agent \n",
    "tools = [\n",
    "    read_email_query,\n",
    "    generate_gmail_query,\n",
    "    create_event_tool,\n",
    "    send_email_tool,\n",
    "    create_jira_issue,\n",
    "    search_jira_issues,\n",
    "    add_jira_comment,\n",
    "]\n",
    "\n",
    "# Create the Prompt Template for the agent \n",
    "prompt = ChatPromptTemplate.from_messages([\n",
    "    (\"system\", \n",
    "     \"You are a support assistant agent. \"\n",
    "     \"You have tools to read Gmail, create Jira issues, and schedule meetings in Google Calendar. \"\n",
    "     \"Always explain what you are doing step by step, and use tools as needed to achieve the user's goal.\"),\n",
    "    MessagesPlaceholder(\"chat_history\"), # Placeholder for chat history \n",
    "    (\"user\", \"{input}\"), # User input placeholder \n",
    "    (\"system\", \"{agent_scratchpad}\") # Placeholder for agent's scratchpad (tool calls and reasoning) \n",
    "])"
   ]
  },
  {
   "cell_type": "code",
   "execution_count": 24,
   "id": "a3b4978d",
   "metadata": {},
   "outputs": [],
   "source": [
    "# Create the agent using the LLM, tools, and prompt \n",
    "agent = create_openai_functions_agent(llm=llm, tools=tools, prompt=prompt)\n",
    "# Create the AgentExecutor to run the agent with the tools\n",
    "agent_executor = AgentExecutor(agent=agent, tools=tools, verbose=True)"
   ]
  },
  {
   "cell_type": "code",
   "execution_count": 25,
   "id": "29683456",
   "metadata": {},
   "outputs": [
    {
     "name": "stdout",
     "output_type": "stream",
     "text": [
      "\n",
      "\n",
      "\u001b[1m> Entering new AgentExecutor chain...\u001b[0m\n",
      "\u001b[32;1m\u001b[1;3m\n",
      "Invoking: `read_email_query` with `{'query': 'subject:(bug OR failure)', 'max_results': 10}`\n",
      "\n",
      "\n",
      "\u001b[0m\u001b[36;1m\u001b[1;3m🧾 From: briyidcatalinacruzostos@gmail.com\n",
      "📌 Subject: (No subject)\n",
      "📄 Body: ...\n",
      "\n",
      "🧾 From: briyidcatalinacruzostos@gmail.com\n",
      "📌 Subject: (No subject)\n",
      "📄 Body: ...\n",
      "\n",
      "🧾 From: briyidcatalinacruzostos@gmail.com\n",
      "📌 Subject: (No subject)\n",
      "📄 Body: ...\n",
      "\n",
      "🧾 From: CRUZ OSTOS BRIYID CATALINA <bccruzo@udistrital.edu.co>\n",
      "📌 Subject: [BUG] El LLM no interpreta correctamente instrucciones encadenadas en el demo Math + Search\n",
      "📄 Body: Hola equipo, Durante las pruebas del demo en LangChain que combina las herramientas de matemáticas y búsqueda, identifiqué una falla en la interpretación del LLM frente a prompts que requieren razonamiento secuencial. Comportamiento observado: Prompt utilizado: \"Calcula 12 × 8 y luego busca si ese número es un récord olímpico en levantamiento de pesas.\" Resultado: El LLM responde únicamente con la operación matemática (96) y no continúa con la segunda parte de la instrucción. En algunas ocasione...\n",
      "\n",
      "🧾 From: CRUZ OSTOS BRIYID CATALINA <bccruzo@udistrital.edu.co>\n",
      "📌 Subject: [BUG] Error al combinar herramientas Math y Search en demo LangChain\n",
      "📄 Body: Hola equipo, Durante la ejecución del demo que integra las herramientas de matemáticas y búsqueda en LangChain, encontré un comportamiento inesperado. El agente lanza una excepción cuando intenta usar la herramienta de búsqueda inmediatamente después de realizar una operación matemática. Detalles del bug: Entorno: LangChain con herramientas @tool personalizadas (math_tool, search_tool) Prompt de prueba: \"¿Cuál es la raíz cuadrada de 144? Luego, busca en internet el significado de raíz cuadrada.\"...\n",
      "\n",
      "🧾 From: CRUZ OSTOS BRIYID CATALINA <bccruzo@udistrital.edu.co>\n",
      "📌 Subject: BUG AGENTE LANGCHAIN\n",
      "📄 Body: Tool Calling errors Obtener Outlook para Android<https://aka.ms/AAb9ysg>...\n",
      "\n",
      "🧾 From: CRUZ OSTOS BRIYID CATALINA <bccruzo@udistrital.edu.co>\n",
      "📌 Subject: FAILURE TOOL CALLING\n",
      "📄 Body: Failure tool calling demo agent. Obtener Outlook para Android<https://aka.ms/AAb9ysg>...\n",
      "\n",
      "🧾 From: briyidcatalinacruzostos@gmail.com\n",
      "📌 Subject: (No subject)\n",
      "📄 Body: ...\n",
      "\n",
      "🧾 From: briyidcatalinacruzostos@gmail.com\n",
      "📌 Subject: (No subject)\n",
      "📄 Body: ...\n",
      "\n",
      "🧾 From: briyidcatalinacruzostos@gmail.com\n",
      "📌 Subject: (No subject)\n",
      "📄 Body: ...\u001b[0m\u001b[32;1m\u001b[1;3m\n",
      "Invoking: `create_jira_issue` with `{'data': 'project:PC | summary:[BUG] El LLM no interpreta correctamente instrucciones encadenadas en el demo Math + Search | description:Issue reported by CRUZ OSTOS BRIYID CATALINA via email | issuetype:Bug'}`\n",
      "responded: I found several emails related to bugs or failures. Let's create Jira tickets for each of them.\n",
      "\n",
      "The first email is from CRUZ OSTOS BRIYID CATALINA with the subject \"[BUG] El LLM no interpreta correctamente instrucciones encadenadas en el demo Math + Search\". I will create a Jira ticket for this issue.\n",
      "\n",
      "\u001b[0m\u001b[33;1m\u001b[1;3m✅ Issue created: [PC-16] [BUG] El LLM no interpreta correctamente instrucciones encadenadas en el demo Math + Search\u001b[0m\u001b[32;1m\u001b[1;3m\n",
      "Invoking: `create_jira_issue` with `{'data': 'project:PC | summary:[BUG] Error al combinar herramientas Math y Search en demo LangChain | description:Issue reported by CRUZ OSTOS BRIYID CATALINA via email | issuetype:Bug'}`\n",
      "responded: The first Jira ticket has been created with the key [PC-16] and the summary \"[BUG] El LLM no interpreta correctamente instrucciones encadenadas en el demo Math + Search\".\n",
      "\n",
      "Now, let's create a Jira ticket for the second email. The email is from CRUZ OSTOS BRIYID CATALINA with the subject \"[BUG] Error al combinar herramientas Math y Search en demo LangChain\". I will create a Jira ticket for this issue.\n",
      "\n",
      "\u001b[0m\u001b[33;1m\u001b[1;3m✅ Issue created: [PC-17] [BUG] Error al combinar herramientas Math y Search en demo LangChain\u001b[0m\u001b[32;1m\u001b[1;3m\n",
      "Invoking: `create_jira_issue` with `{'data': 'project:PC | summary:BUG AGENTE LANGCHAIN | description:Issue reported by CRUZ OSTOS BRIYID CATALINA via email | issuetype:Bug'}`\n",
      "responded: The second Jira ticket has been created with the key [PC-17] and the summary \"[BUG] Error al combinar herramientas Math y Search en demo LangChain\".\n",
      "\n",
      "Next, let's create a Jira ticket for the third email. The email is from CRUZ OSTOS BRIYID CATALINA with the subject \"BUG AGENTE LANGCHAIN\". I will create a Jira ticket for this issue.\n",
      "\n",
      "\u001b[0m\u001b[33;1m\u001b[1;3m✅ Issue created: [PC-18] BUG AGENTE LANGCHAIN\u001b[0m\u001b[32;1m\u001b[1;3m\n",
      "Invoking: `create_jira_issue` with `{'data': 'project:PC | summary:FAILURE TOOL CALLING | description:Issue reported by CRUZ OSTOS BRIYID CATALINA via email | issuetype:Bug'}`\n",
      "responded: The third Jira ticket has been created with the key [PC-18] and the summary \"BUG AGENTE LANGCHAIN\".\n",
      "\n",
      "Finally, let's create a Jira ticket for the fourth email. The email is from CRUZ OSTOS BRIYID CATALINA with the subject \"FAILURE TOOL CALLING\". I will create a Jira ticket for this issue.\n",
      "\n",
      "\u001b[0m\u001b[33;1m\u001b[1;3m✅ Issue created: [PC-19] FAILURE TOOL CALLING\u001b[0m\u001b[32;1m\u001b[1;3m\n",
      "Invoking: `create_event_tool` with `{'event_details': 'Title: Discuss Bug and Failure Reports | Date: 2022-12-02 | Time: 10:00 | Duration: 1 | Description: Discuss the recent bug and failure reports and their corresponding Jira tickets: [PC-16], [PC-17], [PC-18], [PC-19]'}`\n",
      "responded: The fourth Jira ticket has been created with the key [PC-19] and the summary \"FAILURE TOOL CALLING\".\n",
      "\n",
      "Now that we have created Jira tickets for all the reported bugs and failures, let's schedule a Google Meet for tomorrow at 10am to discuss these issues. I will create the event in Google Calendar.\n",
      "\n",
      "\u001b[0m\u001b[38;5;200m\u001b[1;3m📅 Event created successfully.\n",
      "🔗 Event link: https://www.google.com/calendar/event?eid=cnVybWs5cmRybWw2ZXV0aHI2bzNpcWRqMzAgYnJpeWlkY2F0YWxpbmFjcnV6b3N0b3NAbQ\n",
      "📹 Google Meet: https://meet.google.com/btv-dihs-sfg\u001b[0m\u001b[32;1m\u001b[1;3mI have successfully created Jira tickets for each of the reported bugs and failures:\n",
      "\n",
      "1. [PC-16] [BUG] El LLM no interpreta correctamente instrucciones encadenadas en el demo Math + Search\n",
      "2. [PC-17] [BUG] Error al combinar herramientas Math y Search en demo LangChain\n",
      "3. [PC-18] BUG AGENTE LANGCHAIN\n",
      "4. [PC-19] FAILURE TOOL CALLING\n",
      "\n",
      "I have also scheduled a Google Meet for tomorrow at 10am to discuss these issues. Here are the details:\n",
      "\n",
      "- Title: Discuss Bug and Failure Reports\n",
      "- Date: 2022-12-02\n",
      "- Time: 10:00\n",
      "- Duration: 1 hour\n",
      "- Description: Discuss the recent bug and failure reports and their corresponding Jira tickets: [PC-16], [PC-17], [PC-18], [PC-19]\n",
      "\n",
      "You can access the meeting using this [Google Meet link](https://meet.google.com/btv-dihs-sfg) and view the event details [here](https://www.google.com/calendar/event?eid=cnVybWs5cmRybWw2ZXV0aHI2bzNpcWRqMzAgYnJpeWlkY2F0YWxpbmFjcnV6b3N0b3NAbQ).\u001b[0m\n",
      "\n",
      "\u001b[1m> Finished chain.\u001b[0m\n",
      "I have successfully created Jira tickets for each of the reported bugs and failures:\n",
      "\n",
      "1. [PC-16] [BUG] El LLM no interpreta correctamente instrucciones encadenadas en el demo Math + Search\n",
      "2. [PC-17] [BUG] Error al combinar herramientas Math y Search en demo LangChain\n",
      "3. [PC-18] BUG AGENTE LANGCHAIN\n",
      "4. [PC-19] FAILURE TOOL CALLING\n",
      "\n",
      "I have also scheduled a Google Meet for tomorrow at 10am to discuss these issues. Here are the details:\n",
      "\n",
      "- Title: Discuss Bug and Failure Reports\n",
      "- Date: 2022-12-02\n",
      "- Time: 10:00\n",
      "- Duration: 1 hour\n",
      "- Description: Discuss the recent bug and failure reports and their corresponding Jira tickets: [PC-16], [PC-17], [PC-18], [PC-19]\n",
      "\n",
      "You can access the meeting using this [Google Meet link](https://meet.google.com/btv-dihs-sfg) and view the event details [here](https://www.google.com/calendar/event?eid=cnVybWs5cmRybWw2ZXV0aHI2bzNpcWRqMzAgYnJpeWlkY2F0YWxpbmFjcnV6b3N0b3NAbQ).\n"
     ]
    }
   ],
   "source": [
    "response = agent_executor.invoke({\n",
    "    \"input\": (\n",
    "        \"Check all recent emails about bugs or failures, create a Jira ticket for each, \"\n",
    "        \"and schedule a Google Meet tomorrow at 10am to discuss them.\"\n",
    "    ),\n",
    "    \"chat_history\": chat_history  \n",
    "})\n",
    "print(response[\"output\"])"
   ]
  },
  {
   "cell_type": "code",
   "execution_count": 26,
   "id": "d51599c3",
   "metadata": {},
   "outputs": [
    {
     "name": "stdout",
     "output_type": "stream",
     "text": [
      "\n",
      "\n",
      "\u001b[1m> Entering new AgentExecutor chain...\u001b[0m\n",
      "\u001b[32;1m\u001b[1;3m\n",
      "Invoking: `create_jira_issue` with `{'data': 'project:PC | summary:Production outage | description:The API is not responding since 2pm | issuetype:Bug'}`\n",
      "\n",
      "\n",
      "\u001b[0m\u001b[33;1m\u001b[1;3m✅ Issue created: [PC-20] Production outage\u001b[0m\u001b[32;1m\u001b[1;3mI have created a Jira issue in the PC project with the summary \"Production outage\". The description of the issue is \"The API is not responding since 2pm\" and the issue type is \"Bug\". The issue key is PC-20.\u001b[0m\n",
      "\n",
      "\u001b[1m> Finished chain.\u001b[0m\n",
      "I have created a Jira issue in the PC project with the summary \"Production outage\". The description of the issue is \"The API is not responding since 2pm\" and the issue type is \"Bug\". The issue key is PC-20.\n"
     ]
    }
   ],
   "source": [
    "# Example user message to invoke the agent \n",
    "prompt = (\n",
    "    \"Create a Jira issue in project PC. Summary: Production outage. \"\n",
    "    \"Description: The API is not responding since 2pm. Issue type: Bug.\"\n",
    ")\n",
    "response = agent_executor.invoke({\"input\": prompt, \"chat_history\": []})\n",
    "print(response[\"output\"])"
   ]
  },
  {
   "cell_type": "code",
   "execution_count": 27,
   "id": "ea4bc05c",
   "metadata": {},
   "outputs": [],
   "source": [
    "# Update chat history with the latest interaction\n",
    "chat_history.append({\"role\": \"user\", \"content\": prompt})\n",
    "chat_history.append({\"role\": \"assistant\", \"content\": response[\"output\"]})"
   ]
  },
  {
   "cell_type": "code",
   "execution_count": 28,
   "id": "2b29331e",
   "metadata": {},
   "outputs": [
    {
     "name": "stdout",
     "output_type": "stream",
     "text": [
      "\n",
      "\n",
      "\u001b[1m> Entering new AgentExecutor chain...\u001b[0m\n",
      "\u001b[32;1m\u001b[1;3m\n",
      "Invoking: `create_event_tool` with `{'event_details': 'Title: Discuss Production Outage | Date: 2022-09-15 | Time: 09:00 | Duration: 1 | Description: Discuss the bug reported in Jira issue PC-20'}`\n",
      "\n",
      "\n",
      "\u001b[0m\u001b[38;5;200m\u001b[1;3m📅 Event created successfully.\n",
      "🔗 Event link: https://www.google.com/calendar/event?eid=cjI2a2xvODJwY2Y2MzBhcnZ2OHBhaXUxbW8gYnJpeWlkY2F0YWxpbmFjcnV6b3N0b3NAbQ\n",
      "📹 Google Meet: https://meet.google.com/tby-mkaz-stu\u001b[0m\u001b[32;1m\u001b[1;3mI have successfully scheduled a meeting to discuss the bug reported in Jira issue PC-20. The meeting is set for tomorrow at 9 AM. Here are the details:\n",
      "\n",
      "📅 Event: Discuss Production Outage\n",
      "📆 Date: 2022-09-15\n",
      "⏰ Time: 09:00\n",
      "🕒 Duration: 1 hour\n",
      "📝 Description: Discuss the bug reported in Jira issue PC-20\n",
      "\n",
      "You can access the meeting using the following links:\n",
      "🔗 [Event link](https://www.google.com/calendar/event?eid=cjI2a2xvODJwY2Y2MzBhcnZ2OHBhaXUxbW8gYnJpeWlkY2F0YWxpbmFjcnV6b3N0b3NAbQ)\n",
      "📹 [Google Meet](https://meet.google.com/tby-mkaz-stu)\u001b[0m\n",
      "\n",
      "\u001b[1m> Finished chain.\u001b[0m\n",
      "I have successfully scheduled a meeting to discuss the bug reported in Jira issue PC-20. The meeting is set for tomorrow at 9 AM. Here are the details:\n",
      "\n",
      "📅 Event: Discuss Production Outage\n",
      "📆 Date: 2022-09-15\n",
      "⏰ Time: 09:00\n",
      "🕒 Duration: 1 hour\n",
      "📝 Description: Discuss the bug reported in Jira issue PC-20\n",
      "\n",
      "You can access the meeting using the following links:\n",
      "🔗 [Event link](https://www.google.com/calendar/event?eid=cjI2a2xvODJwY2Y2MzBhcnZ2OHBhaXUxbW8gYnJpeWlkY2F0YWxpbmFjcnV6b3N0b3NAbQ)\n",
      "📹 [Google Meet](https://meet.google.com/tby-mkaz-stu)\n"
     ]
    }
   ],
   "source": [
    "# Next user message to continue the conversation\n",
    "user_msg2 = \"Schedule a meeting to discuss the bug reported above tomorrow at 9 AM.\"\n",
    "response2 = agent_executor.invoke({\n",
    "    \"input\": user_msg2,\n",
    "    \"chat_history\": chat_history\n",
    "})\n",
    "print(response2[\"output\"])"
   ]
  },
  {
   "cell_type": "code",
   "execution_count": 29,
   "id": "ed1ffc50",
   "metadata": {},
   "outputs": [],
   "source": [
    "# Update chat history with the second interaction\n",
    "chat_history.append({\"role\": \"user\", \"content\": user_msg2})\n",
    "chat_history.append({\"role\": \"assistant\", \"content\": response2[\"output\"]})"
   ]
  },
  {
   "cell_type": "code",
   "execution_count": 30,
   "id": "6ad44aa2",
   "metadata": {},
   "outputs": [
    {
     "data": {
      "text/plain": [
       "[{'role': 'user',\n",
       "  'content': 'Create a Jira issue in project PC. Summary: Production outage. Description: The API is not responding since 2pm. Issue type: Bug.'},\n",
       " {'role': 'assistant',\n",
       "  'content': 'I have created a Jira issue in the PC project with the summary \"Production outage\". The description of the issue is \"The API is not responding since 2pm\" and the issue type is \"Bug\". The issue key is PC-20.'},\n",
       " {'role': 'user',\n",
       "  'content': 'Schedule a meeting to discuss the bug reported above tomorrow at 9 AM.'},\n",
       " {'role': 'assistant',\n",
       "  'content': 'I have successfully scheduled a meeting to discuss the bug reported in Jira issue PC-20. The meeting is set for tomorrow at 9 AM. Here are the details:\\n\\n📅 Event: Discuss Production Outage\\n📆 Date: 2022-09-15\\n⏰ Time: 09:00\\n🕒 Duration: 1 hour\\n📝 Description: Discuss the bug reported in Jira issue PC-20\\n\\nYou can access the meeting using the following links:\\n🔗 [Event link](https://www.google.com/calendar/event?eid=cjI2a2xvODJwY2Y2MzBhcnZ2OHBhaXUxbW8gYnJpeWlkY2F0YWxpbmFjcnV6b3N0b3NAbQ)\\n📹 [Google Meet](https://meet.google.com/tby-mkaz-stu)'}]"
      ]
     },
     "execution_count": 30,
     "metadata": {},
     "output_type": "execute_result"
    }
   ],
   "source": [
    "# Final output of the agent after processing the conversation \n",
    "chat_history"
   ]
  },
  {
   "cell_type": "code",
   "execution_count": 31,
   "id": "4a8ff7fb",
   "metadata": {},
   "outputs": [
    {
     "name": "stdout",
     "output_type": "stream",
     "text": [
      "✅ chat_history saved to chat_history.json\n"
     ]
    }
   ],
   "source": [
    "# Save the chat history\n",
    "save_chat_history(chat_history, \"chat_history.json\")"
   ]
  },
  {
   "cell_type": "markdown",
   "id": "8979411a",
   "metadata": {},
   "source": [
    "### ✅ **Conclusions**\n",
    "\n",
    "- We defined, tested, and integrated custom tools for Gmail (send, read, query, calendar event) and Jira (create issue, search, comment).\n",
    "- Manual tool testing ensured each integration worked reliably before orchestration.\n",
    "- The Cognitive Support and Coordination Agent uses these tools to automate real-world workflows based on natural prompts.\n",
    "- The agent interprets user intent, selects and calls the right tools, and provides detailed feedback at every step.\n",
    "- In just a few lines, we achieve an end-to-end flow: **prompt → reasoning → tool execution → response**, enabling seamless automation for support scenarios.\n",
    "\n"
   ]
  }
 ],
 "metadata": {
  "kernelspec": {
   "display_name": "Python 3",
   "language": "python",
   "name": "python3"
  },
  "language_info": {
   "codemirror_mode": {
    "name": "ipython",
    "version": 3
   },
   "file_extension": ".py",
   "mimetype": "text/x-python",
   "name": "python",
   "nbconvert_exporter": "python",
   "pygments_lexer": "ipython3",
   "version": "3.10.11"
  }
 },
 "nbformat": 4,
 "nbformat_minor": 5
}
