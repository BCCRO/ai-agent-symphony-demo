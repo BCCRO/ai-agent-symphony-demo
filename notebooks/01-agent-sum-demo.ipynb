{
 "cells": [
  {
   "cell_type": "markdown",
   "id": "092a12b5",
   "metadata": {},
   "source": [
    "# 🎶 **Demo 1: Math Agent with LangChain**\n",
    "In this notebook we’ll build a simple agent that can add and subtract two numbers using **LangChain** and a LLM."
   ]
  },
  {
   "cell_type": "markdown",
   "id": "7f559c33",
   "metadata": {},
   "source": [
    "### 📑 **Table of Contents**\n",
    "\n",
    "1. 🛠️ Objectives  \n",
    "2. 📦 Install Dependencies  \n",
    "3. 🔑 Configure API Key  \n",
    "4. 👉 Define Addition Tool (`@tool`)  \n",
    "5. 🔗 Import Tools  \n",
    "6. 🤖 Create LLM and Initialize Agent\n",
    "7. 🎯 Interactive Tests  \n",
    "8. ✅ Conclusions  \n"
   ]
  },
  {
   "cell_type": "markdown",
   "id": "d0f7657f",
   "metadata": {},
   "source": [
    "### 🛠️ **Objectives**\n",
    "\n",
    "- Define an **addition**and a **subtraction** tool with `@tool`.  \n",
    "- Create an **AgentExecutor** to orchestrate both tools.  \n",
    "- Test the agent with natural prompts.  \n",
    "---"
   ]
  },
  {
   "cell_type": "code",
   "execution_count": 1,
   "id": "2d9bc0e5",
   "metadata": {},
   "outputs": [],
   "source": [
    "from dotenv import load_dotenv\n",
    "import os"
   ]
  },
  {
   "cell_type": "code",
   "execution_count": 2,
   "id": "39c0fceb",
   "metadata": {},
   "outputs": [
    {
     "data": {
      "text/plain": [
       "True"
      ]
     },
     "execution_count": 2,
     "metadata": {},
     "output_type": "execute_result"
    }
   ],
   "source": [
    "# Load environment variables from .env file\n",
    "load_dotenv(override=True) "
   ]
  },
  {
   "cell_type": "code",
   "execution_count": 3,
   "id": "8622bb10",
   "metadata": {},
   "outputs": [],
   "source": [
    "# Set the OpenAI API key from the environment variable\n",
    "OPENAI_API_KEY = os.getenv(\"OPENAI_API_KEY\")"
   ]
  },
  {
   "cell_type": "markdown",
   "id": "a62a89b1",
   "metadata": {},
   "source": [
    "### 👉 **Define Tools with `@tool`**\n",
    "We use the `@tool` decorator to register an addition function automatically.\n",
    "\n",
    "```python\n",
    "from langchain.agents import tool\n",
    "\n",
    "@tool\n",
    "def add_numbers(input_str: str) -> str:\n",
    "    \"\"\"\n",
    "    Takes two numbers separated by a space and returns their sum.\n",
    "\n",
    "    Args:\n",
    "        input_str (str): Two numbers in the form \"A B\", e.g. \"3 5\"\n",
    "\n",
    "    Returns:\n",
    "        str: The sum A + B, or an error message if parsing fails.\n",
    "    \"\"\"\n",
    "    try:\n",
    "        a, b = map(float, input_str.split())\n",
    "        return str(a + b)\n",
    "    except Exception:\n",
    "        return \"error: please send two numbers separated by space, e.g. '3 5'\"\n",
    "\n",
    "```\n",
    "#### **Key components**\n",
    "\n",
    "1. **@tool decorator**\n",
    "   - Registers the function with LangChain\n",
    "   - Creates tool attributes (.name, .description, .func)\n",
    "   - Generates JSON schema for validation\n",
    "   - Transforms regular functions into callable tools\n",
    "\n",
    "2. **Function name**\n",
    "   - Used by LLM to select appropriate tool\n",
    "   - Used as reference in chains and tool mappings\n",
    "   - Appears in tool call logs for debugging\n",
    "   - Should clearly indicate the tool's purpose\n",
    "\n",
    "3. **Type annotations**\n",
    "   - Enable automatic input validation\n",
    "   - Create schema for parameters\n",
    "   - Allow proper serialization of inputs/outputs\n",
    "   - Help LLM understand required input formats\n",
    "\n",
    "4. **Docstring**\n",
    "   - Provides context for the LLM to decide when to use the tool\n",
    "   - Documents parameter requirements\n",
    "   - Explains expected outputs and behavior\n",
    "   - Critical for tool selection by the LLM\n",
    "\n",
    "5. **Implementation**\n",
    "   - Executes the actual operation\n",
    "   - Handles errors appropriately\n",
    "   - Returns properly formatted results\n",
    "   - Should be efficient and robust\n"
   ]
  },
  {
   "cell_type": "markdown",
   "id": "87f8ca55",
   "metadata": {},
   "source": [
    "### 🔗 **Import Tools and AgentExecutor**"
   ]
  },
  {
   "cell_type": "code",
   "execution_count": 6,
   "id": "25633551",
   "metadata": {},
   "outputs": [],
   "source": [
    "from langchain.agents.agent_types import AgentType\n",
    "from langchain_openai import ChatOpenAI\n",
    "from src.tools.math_tools import add_numbers, subtract_numbers\n",
    "from src.tools.search_tools import wikipedia_search\n",
    "from langchain.agents import initialize_agent"
   ]
  },
  {
   "cell_type": "code",
   "execution_count": 7,
   "id": "a2187231",
   "metadata": {},
   "outputs": [
    {
     "name": "stdout",
     "output_type": "stream",
     "text": [
      "Tools available: add_numbers subtract_numbers wikipedia_search\n"
     ]
    }
   ],
   "source": [
    "print(\"Tools available:\", add_numbers.name, subtract_numbers.name, wikipedia_search.name)"
   ]
  },
  {
   "cell_type": "code",
   "execution_count": 9,
   "id": "2d66d1a1",
   "metadata": {},
   "outputs": [
    {
     "name": "stdout",
     "output_type": "stream",
     "text": [
      "Args: Takes two numbers separated by a space and returns the result of A - B.\n",
      "\n",
      "Args:\n",
      "    input_str (str): Two numbers in the form \"A B\", e.g. \"8 3\"\n",
      "\n",
      "Returns:\n",
      "    str: The difference A − B, or an error message if parsing fails. Takes two numbers separated by a space and returns their sum.\n",
      "\n",
      "Args:\n",
      "    input_str (str): Two numbers in the form \"A B\", e.g. \"3 5\"\n",
      "\n",
      "Returns:\n",
      "    str: The sum A + B, or an error message if parsing fails. Performs a search on Wikipedia and returns a summary of the first result found.\n",
      "\n",
      "Args:\n",
      "    query (str): Search term.\n",
      "\n",
      "Returns:\n",
      "    str: Summary of the corresponding Wikipedia article.\n"
     ]
    }
   ],
   "source": [
    "print(\"Args:\", subtract_numbers.description, \n",
    "      add_numbers.description, \n",
    "      wikipedia_search.description)"
   ]
  },
  {
   "cell_type": "markdown",
   "id": "2512f0f3",
   "metadata": {},
   "source": [
    "## 🤖 **Create LLM and Initialize Agent**\n",
    "Instantiate the LLM (temperature=0 for determinism) and build the agent."
   ]
  },
  {
   "cell_type": "code",
   "execution_count": 10,
   "id": "0de982de",
   "metadata": {},
   "outputs": [],
   "source": [
    "# Configure the LLM\n",
    "llm = ChatOpenAI(temperature=0, model=\"gpt-4o\")"
   ]
  },
  {
   "cell_type": "code",
   "execution_count": 82,
   "id": "492981a7",
   "metadata": {},
   "outputs": [
    {
     "name": "stdout",
     "output_type": "stream",
     "text": [
      "In the context of artificial intelligence (AI), an agent is an entity that perceives its environment through sensors and acts upon that environment through actuators. The agent's goal is to perform actions that maximize some notion of cumulative reward or achieve specific objectives. Agents can be simple or complex, and they can operate in a wide range of environments, from highly controlled and predictable to highly dynamic and uncertain.\n",
      "\n",
      "There are several types of agents in AI, including:\n",
      "\n",
      "1. **Simple Reflex Agents**: These agents select actions based on the current percept, ignoring the rest of the percept history. They operate on condition-action rules, such as \"if condition, then action.\"\n",
      "\n",
      "2. **Model-Based Reflex Agents**: These agents maintain an internal model of the world, which helps them handle partially observable environments. They use this model to keep track of the state of the world and make decisions based on both the current percept and the history of percepts.\n",
      "\n",
      "3. **Goal-Based Agents**: These agents act to achieve specific goals. They use goal information to guide their actions, often employing search and planning algorithms to find sequences of actions that lead to the desired outcome.\n",
      "\n",
      "4. **Utility-Based Agents**: These agents aim to maximize a utility function, which is a measure of the agent's happiness or satisfaction with a particular state of the world. They make decisions based on the expected utility of different actions.\n",
      "\n",
      "5. **Learning Agents**: These agents have the ability to improve their performance over time by learning from their experiences. They can adapt to changes in the environment and improve their decision-making strategies.\n",
      "\n",
      "In AI research and applications, agents are often used to model and solve problems in various domains, such as robotics, natural language processing, autonomous vehicles, and more. The design and implementation of an agent depend on the specific requirements and constraints of the task it is intended to perform.\n"
     ]
    }
   ],
   "source": [
    "# Test the LLM with a simple question \n",
    "answer = llm.invoke(\"What is an agent in AI?\")\n",
    "print(answer.content)"
   ]
  },
  {
   "cell_type": "markdown",
   "id": "4209759b",
   "metadata": {},
   "source": [
    "#### **Key parameters of `initialize_agent`**\n",
    "\n",
    "1. **`tools`**\n",
    "\n",
    "2.  **`llm`**\n",
    "\n",
    "3. **`agent`**:\n",
    "   - Specifies the reasoning framework for the agent.\n",
    "   - `\"zero-shot-react-description\"` enables:\n",
    "     - **Zero-shot reasoning**: The agent can solve tasks it hasn't seen before by thinking through the problem step by step.\n",
    "     - **React framework**: A logical loop of:\n",
    "       - **Reason** → Think about the task.\n",
    "       - **Act** → Use a tool to perform an action.\n",
    "       - **Observe** → Check the tool's output.\n",
    "       - **Plan** → Decide what to do next.\n",
    "\n",
    "4. **`verbose`**:\n",
    "   - If `True`, it prints detailed logs of the agent’s thought process.\n",
    "   - Useful for debugging or understanding how the agent makes decisions."
   ]
  },
  {
   "cell_type": "code",
   "execution_count": 12,
   "id": "74d7da85",
   "metadata": {},
   "outputs": [],
   "source": [
    "# Initialize the agent with the specified tools and LLM \n",
    "agent = initialize_agent(\n",
    "    tools= [add_numbers, subtract_numbers, wikipedia_search],\n",
    "    llm=llm,\n",
    "    agent=AgentType.CHAT_ZERO_SHOT_REACT_DESCRIPTION,\n",
    "    verbose=True\n",
    ")"
   ]
  },
  {
   "cell_type": "markdown",
   "id": "c5e64f70",
   "metadata": {},
   "source": [
    "---\n",
    "### 7️⃣ **Interactive Tests** 🎯"
   ]
  },
  {
   "cell_type": "code",
   "execution_count": 13,
   "id": "15e61c3c",
   "metadata": {},
   "outputs": [
    {
     "name": "stdout",
     "output_type": "stream",
     "text": [
      "🏷️ Prompt: Can you add 10 and 15?\n",
      "\n",
      "\n",
      "\u001b[1m> Entering new AgentExecutor chain...\u001b[0m\n",
      "\u001b[32;1m\u001b[1;3mQuestion: Can you add 10 and 15?\n",
      "Thought: I need to use the add_numbers tool to find the sum of 10 and 15.\n",
      "Action:\n",
      "```\n",
      "{\n",
      "  \"action\": \"add_numbers\",\n",
      "  \"action_input\": \"10 15\"\n",
      "}\n",
      "```\n",
      "\u001b[0m\n",
      "Observation: \u001b[36;1m\u001b[1;3m25.0\u001b[0m\n",
      "Thought:\u001b[32;1m\u001b[1;3mI now know the final answer. \n",
      "\n",
      "Final Answer: The sum of 10 and 15 is 25.\u001b[0m\n",
      "\n",
      "\u001b[1m> Finished chain.\u001b[0m\n",
      "➡️ Response: {'input': 'Can you add 10 and 15?', 'output': 'The sum of 10 and 15 is 25.'} \n",
      "\n",
      "🏷️ Prompt: Please subtract 7.5 from 20\n",
      "\n",
      "\n",
      "\u001b[1m> Entering new AgentExecutor chain...\u001b[0m\n",
      "\u001b[32;1m\u001b[1;3mQuestion: Please subtract 7.5 from 20\n",
      "Thought: I need to perform a subtraction operation with the numbers 20 and 7.5.\n",
      "Action:\n",
      "```\n",
      "{\n",
      "  \"action\": \"subtract_numbers\",\n",
      "  \"action_input\": \"20 7.5\"\n",
      "}\n",
      "```\n",
      "\u001b[0m\n",
      "Observation: \u001b[33;1m\u001b[1;3m12.5\u001b[0m\n",
      "Thought:\u001b[32;1m\u001b[1;3mI now know the final answer. \n",
      "\n",
      "Final Answer: 12.5\u001b[0m\n",
      "\n",
      "\u001b[1m> Finished chain.\u001b[0m\n",
      "➡️ Response: {'input': 'Please subtract 7.5 from 20', 'output': '12.5'} \n",
      "\n",
      "🏷️ Prompt: In 2023, the US GDP was approximately $27.72 trillion, while Canada's was around $2.14 trillion and Mexico's was about $1.79 trillion what is the total.\n",
      "\n",
      "\n",
      "\u001b[1m> Entering new AgentExecutor chain...\u001b[0m\n",
      "\u001b[32;1m\u001b[1;3mQuestion: In 2023, the US GDP was approximately $27.72 trillion, while Canada's was around $2.14 trillion and Mexico's was about $1.79 trillion. What is the total GDP of these three countries?\n",
      "Thought: I need to add the GDPs of the US, Canada, and Mexico to find the total.\n",
      "Action:\n",
      "```\n",
      "{\n",
      "  \"action\": \"add_numbers\",\n",
      "  \"action_input\": \"27.72 2.14\"\n",
      "}\n",
      "```\n",
      "\u001b[0m\n",
      "Observation: \u001b[36;1m\u001b[1;3m29.86\u001b[0m\n",
      "Thought:\u001b[32;1m\u001b[1;3mTo find the total GDP of the US, Canada, and Mexico, I need to add the result of the previous addition (29.86) to Mexico's GDP.\n",
      "\n",
      "Action:\n",
      "```\n",
      "{\n",
      "  \"action\": \"add_numbers\",\n",
      "  \"action_input\": \"29.86 1.79\"\n",
      "}\n",
      "```\n",
      "\u001b[0m\n",
      "Observation: \u001b[36;1m\u001b[1;3m31.65\u001b[0m\n",
      "Thought:\u001b[32;1m\u001b[1;3mI now know the final answer.\n",
      "\n",
      "Final Answer: The total GDP of the US, Canada, and Mexico in 2023 was approximately $31.65 trillion.\u001b[0m\n",
      "\n",
      "\u001b[1m> Finished chain.\u001b[0m\n",
      "➡️ Response: {'input': \"In 2023, the US GDP was approximately $27.72 trillion, while Canada's was around $2.14 trillion and Mexico's was about $1.79 trillion what is the total.\", 'output': 'The total GDP of the US, Canada, and Mexico in 2023 was approximately $31.65 trillion.'} \n",
      "\n",
      "🏷️ Prompt: What is the capital of France?\n",
      "\n",
      "\n",
      "\u001b[1m> Entering new AgentExecutor chain...\u001b[0m\n",
      "\u001b[32;1m\u001b[1;3mQuestion: What is the capital of France?\n",
      "Thought: I know that the capital of France is Paris.\n",
      "Final Answer: Paris\u001b[0m\n",
      "\n",
      "\u001b[1m> Finished chain.\u001b[0m\n",
      "➡️ Response: {'input': 'What is the capital of France?', 'output': 'Paris'} \n",
      "\n",
      "🏷️ Prompt: ¿Cuántos habitantes tiene México y Estados Unidos? ¿Cuál es la diferencia entre ellos?\n",
      "\n",
      "\n",
      "\u001b[1m> Entering new AgentExecutor chain...\u001b[0m\n",
      "\u001b[32;1m\u001b[1;3mQuestion: ¿Cuántos habitantes tiene México y Estados Unidos? ¿Cuál es la diferencia entre ellos?\n",
      "Thought: Primero, buscaré la población actual de México y Estados Unidos en Wikipedia.\n",
      "Action:\n",
      "```\n",
      "{\n",
      "  \"action\": \"wikipedia_search\",\n",
      "  \"action_input\": \"Población de México\"\n",
      "}\n",
      "```\n",
      "\u001b[0m\n",
      "Observation: \u001b[38;5;200m\u001b[1;3mWith a population of about 129 million in 2022, Mexico is the 10th most populated country in the world. It is the largest Spanish-speaking country in the world and the third-most populous country in the Americas after the United States and Brazil, the most populous city in the country is the capital, Mexico City, with a population of 9.2 million and its metropolitan area is also the most populated with 21.8 million as of 2020. Approximately 53% of the population lives in one of the 48 large metropolitan areas in the country. In total, about 76% of the population of the country lives in urban areas and 23% lives in rural ones.\n",
      "Demographic censuses are performed by the Instituto Nacional de Estadística y Geografía.\u001b[0m\n",
      "Thought:\u001b[32;1m\u001b[1;3mAhora buscaré la población actual de Estados Unidos en Wikipedia para poder calcular la diferencia entre las poblaciones de ambos países.\n",
      "\n",
      "Action:\n",
      "```\n",
      "{\n",
      "  \"action\": \"wikipedia_search\",\n",
      "  \"action_input\": \"Población de Estados Unidos\"\n",
      "}\n",
      "```\n",
      "\u001b[0m\n",
      "Observation: \u001b[38;5;200m\u001b[1;3mMexico, officially the United Mexican States, is a country in North America. It is the northernmost country in Latin America, and borders the United States to the north, and Guatemala and Belize to the southeast; while having maritime boundaries with the Pacific Ocean to the west, the Caribbean Sea to the southeast, and the Gulf of Mexico to the east. Mexico covers 1,972,550 km2 (761,610 sq mi), and is the thirteenth-largest country in the world by land area. With a population exceeding 130 million, Mexico is the tenth-most populous country in the world and is home to the largest number of native Spanish speakers. Mexico City is the capital and largest city, which ranks among the most populous metropolitan areas in the world.\u001b[0m\n",
      "Thought:\u001b[32;1m\u001b[1;3mAction:\n",
      "```\n",
      "{\n",
      "  \"action\": \"wikipedia_search\",\n",
      "  \"action_input\": \"United States population\"\n",
      "}\n",
      "```\n",
      "\u001b[0m\n",
      "Observation: \u001b[38;5;200m\u001b[1;3mThe United States is the most populous country in the Americas and the Western Hemisphere, with an estimated population of 340,110,988 on July 1, 2024, according to the U.S. Census Bureau. It is the third most populous country in the world, with about 4% of the world population. The US population grew 2.6% over the 2020 federal census of 331,449,281 residents. These figures include the 50 states and the federal capital, Washington, D.C., but exclude the 3.6 million residents of five unincorporated U.S. territories (Puerto Rico, Guam, the U.S. Virgin Islands, American Samoa, and the Northern Mariana Islands) as well as several minor uninhabited island possessions. The Census Bureau showed a population increase of 0.98% for the twelve-month period ending in July 2024, slightly below the world estimated annual growth rate of 1.03%.\u001b[0m\n",
      "Thought:\u001b[32;1m\u001b[1;3mAhora que tengo las poblaciones de México y Estados Unidos, puedo calcular la diferencia entre ellas. México tiene una población de aproximadamente 130 millones y Estados Unidos tiene una población de aproximadamente 340 millones.\n",
      "\n",
      "Action:\n",
      "```\n",
      "{\n",
      "  \"action\": \"subtract_numbers\",\n",
      "  \"action_input\": \"340 130\"\n",
      "}\n",
      "```\n",
      "\u001b[0m\n",
      "Observation: \u001b[33;1m\u001b[1;3m210.0\u001b[0m\n",
      "Thought:\u001b[32;1m\u001b[1;3mAhora sé la diferencia de población entre México y Estados Unidos.\n",
      "\n",
      "Final Answer: México tiene aproximadamente 130 millones de habitantes, mientras que Estados Unidos tiene aproximadamente 340 millones. La diferencia de población entre ellos es de 210 millones de personas.\u001b[0m\n",
      "\n",
      "\u001b[1m> Finished chain.\u001b[0m\n",
      "➡️ Response: {'input': '¿Cuántos habitantes tiene México y Estados Unidos? ¿Cuál es la diferencia entre ellos?', 'output': 'México tiene aproximadamente 130 millones de habitantes, mientras que Estados Unidos tiene aproximadamente 340 millones. La diferencia de población entre ellos es de 210 millones de personas.'} \n",
      "\n"
     ]
    }
   ],
   "source": [
    "prompts = [\n",
    "    \"Can you add 10 and 15?\",\n",
    "    \"Please subtract 7.5 from 20\",\n",
    "    \"In 2023, the US GDP was approximately $27.72 trillion, while Canada's was around $2.14 trillion and Mexico's was about $1.79 trillion what is the total.\",\n",
    "    \"What is the capital of France?\",\n",
    "    \"¿Cuántos habitantes tiene México y Estados Unidos? ¿Cuál es la diferencia entre ellos?\",\n",
    "]\n",
    "\n",
    "for prompt in prompts:\n",
    "    print(f\"🏷️ Prompt: {prompt}\")\n",
    "    print(\"➡️ Response:\", agent.invoke({\"input\": prompt}), \"\\n\")"
   ]
  },
  {
   "cell_type": "code",
   "execution_count": 15,
   "id": "c158bd19",
   "metadata": {},
   "outputs": [
    {
     "name": "stdout",
     "output_type": "stream",
     "text": [
      "\n",
      "\n",
      "\u001b[1m> Entering new AgentExecutor chain...\u001b[0m\n",
      "\u001b[32;1m\u001b[1;3mQuestion: ¿Cuál es el plato típico de Antioquía y cuánto costaría invitar a 5 personas a almorzar?\n",
      "Thought: Primero, buscaré información sobre el plato típico de Antioquía.\n",
      "Action:\n",
      "```\n",
      "{\n",
      "  \"action\": \"wikipedia_search\",\n",
      "  \"action_input\": \"plato típico de Antioquía\"\n",
      "}\n",
      "```\n",
      "\u001b[0m\n",
      "Observation: \u001b[38;5;200m\u001b[1;3mNo Wikipedia page was found for this term.\u001b[0m\n",
      "Thought:\u001b[32;1m\u001b[1;3mThought: Intentaré buscar información sobre el plato típico de Antioquía utilizando un término más general.\n",
      "Action:\n",
      "```\n",
      "{\n",
      "  \"action\": \"wikipedia_search\",\n",
      "  \"action_input\": \"Bandeja Paisa\"\n",
      "}\n",
      "```\n",
      "\u001b[0m\n",
      "Observation: \u001b[38;5;200m\u001b[1;3mBandeja paisa (Spanish pronunciation: [banˌdexa ˈpai̯sa]; lit. 'Paisa platter'), with variations known as bandeja de arriero, bandeja montañera, and bandeja antioqueña, is one of the most representative meals in Colombian cuisine, especially of the Antioquia department and the Paisa region, as well as with the Colombian Coffee-Growers Axis (the departments of Caldas, Quindío and Risaralda, Tolima and Valle del Cauca). Paisa refers to a person from the Paisa region and bandeja is Spanish for platter.\n",
      "The main characteristic of this dish is the generous amount and variety of food in a traditional bandeja paisa: red beans cooked with pork, white rice, carne molida (ground meat), chicharrón, fried egg, plantain (plátano maduro), chorizo, arepa, hogao sauce, black pudding (morcilla), avocado and lemon.\n",
      "It is served in a platter or a tray.\n",
      "\n",
      "\n",
      "== Origin ==\n",
      "The origin of the bandeja paisa was influenced by several different cultures that inhabited Colombia throughout the centuries, including the indigenous peoples of Colombia, as well as colonial Spaniards and Africans.\u001b[0m\n",
      "Thought:\u001b[32;1m\u001b[1;3mThought: Ahora que sé que el plato típico de Antioquía es la Bandeja Paisa, necesito averiguar el costo promedio de este plato para calcular cuánto costaría invitar a 5 personas a almorzar. Buscaré información sobre el costo promedio de una Bandeja Paisa en un restaurante.\n",
      "\n",
      "Action:\n",
      "```\n",
      "{\n",
      "  \"action\": \"wikipedia_search\",\n",
      "  \"action_input\": \"Costo promedio de una Bandeja Paisa\"\n",
      "}\n",
      "```\n",
      "\u001b[0m\n",
      "Observation: \u001b[38;5;200m\u001b[1;3mNo Wikipedia page was found for this term.\u001b[0m\n",
      "Thought:\u001b[32;1m\u001b[1;3mPara encontrar el costo promedio de una Bandeja Paisa, sería más efectivo buscar información en línea o consultar menús de restaurantes en Antioquía. Sin embargo, dado que no tengo acceso a internet en tiempo real, no puedo buscar esta información directamente. \n",
      "\n",
      "En general, el costo de una Bandeja Paisa en un restaurante en Colombia puede variar dependiendo del lugar, pero suele estar en un rango de 20,000 a 40,000 pesos colombianos por persona. Usaré un valor promedio de 30,000 pesos colombianos para hacer el cálculo.\n",
      "\n",
      "Para invitar a 5 personas a almorzar, multiplicaré el costo promedio por 5.\n",
      "\n",
      "Action:\n",
      "```\n",
      "{\n",
      "  \"action\": \"add_numbers\",\n",
      "  \"action_input\": \"30000 30000\"\n",
      "}\n",
      "```\n",
      "\u001b[0m\n",
      "Observation: \u001b[36;1m\u001b[1;3m60000.0\u001b[0m\n",
      "Thought:\u001b[32;1m\u001b[1;3mThought: Continuaré sumando el costo promedio de la Bandeja Paisa para las 5 personas.\n",
      "\n",
      "Action:\n",
      "```\n",
      "{\n",
      "  \"action\": \"add_numbers\",\n",
      "  \"action_input\": \"60000 30000\"\n",
      "}\n",
      "```\n",
      "\u001b[0m\n",
      "Observation: \u001b[36;1m\u001b[1;3m90000.0\u001b[0m\n",
      "Thought:\u001b[32;1m\u001b[1;3mContinuaré sumando el costo promedio de la Bandeja Paisa para las 5 personas.\n",
      "\n",
      "Action:\n",
      "```\n",
      "{\n",
      "  \"action\": \"add_numbers\",\n",
      "  \"action_input\": \"90000 30000\"\n",
      "}\n",
      "```\n",
      "\u001b[0m\n",
      "Observation: \u001b[36;1m\u001b[1;3m120000.0\u001b[0m\n",
      "Thought:\u001b[32;1m\u001b[1;3mContinuaré sumando el costo promedio de la Bandeja Paisa para las 5 personas.\n",
      "\n",
      "Action:\n",
      "```\n",
      "{\n",
      "  \"action\": \"add_numbers\",\n",
      "  \"action_input\": \"120000 30000\"\n",
      "}\n",
      "```\n",
      "\u001b[0m\n",
      "Observation: \u001b[36;1m\u001b[1;3m150000.0\u001b[0m\n",
      "Thought:\u001b[32;1m\u001b[1;3mAhora que he calculado el costo total, sé que invitar a 5 personas a almorzar con una Bandeja Paisa, considerando un costo promedio de 30,000 pesos colombianos por persona, costaría 150,000 pesos colombianos.\n",
      "\n",
      "Final Answer: El plato típico de Antioquía es la Bandeja Paisa. Invitar a 5 personas a almorzar costaría aproximadamente 150,000 pesos colombianos, considerando un costo promedio de 30,000 pesos por persona.\u001b[0m\n",
      "\n",
      "\u001b[1m> Finished chain.\u001b[0m\n"
     ]
    },
    {
     "data": {
      "text/plain": [
       "{'input': '¿Cuál es el plato típico de Antioquía y cuánto costaría invitar a 5 personas a almorzar?',\n",
       " 'output': 'El plato típico de Antioquía es la Bandeja Paisa. Invitar a 5 personas a almorzar costaría aproximadamente 150,000 pesos colombianos, considerando un costo promedio de 30,000 pesos por persona.'}"
      ]
     },
     "execution_count": 15,
     "metadata": {},
     "output_type": "execute_result"
    }
   ],
   "source": [
    "agent.invoke({\"input\": \"¿Cuál es el plato típico de Antioquía y cuánto costaría invitar a 5 personas a almorzar?\"})"
   ]
  },
  {
   "cell_type": "markdown",
   "id": "1febd6ea",
   "metadata": {},
   "source": [
    "### ✅ **Conclusions**\n",
    "\n",
    "- We defined **add_numbers** and **subtract_numbers** tools using `@tool`.  \n",
    "- The agent chooses and invokes the correct tool based on your prompt.  \n",
    "- In just a few lines, we have a full “prompt → reasoning → tool call → response” flow.  \n",
    "\n",
    "**Ready for the next orchestration demo!**"
   ]
  }
 ],
 "metadata": {
  "kernelspec": {
   "display_name": "Python 3",
   "language": "python",
   "name": "python3"
  },
  "language_info": {
   "codemirror_mode": {
    "name": "ipython",
    "version": 3
   },
   "file_extension": ".py",
   "mimetype": "text/x-python",
   "name": "python",
   "nbconvert_exporter": "python",
   "pygments_lexer": "ipython3",
   "version": "3.10.11"
  }
 },
 "nbformat": 4,
 "nbformat_minor": 5
}
