{
 "cells": [
  {
   "cell_type": "markdown",
   "id": "092a12b5",
   "metadata": {},
   "source": [
    "# 🎶 **Demo 1: Math Agent with LangChain**\n",
    "In this notebook we’ll build a simple agent that can add and subtract two numbers using **LangChain** and a LLM."
   ]
  },
  {
   "cell_type": "markdown",
   "id": "7f559c33",
   "metadata": {},
   "source": [
    "### 📑 **Table of Contents**\n",
    "\n",
    "1. 🛠️ Objectives  \n",
    "2. 📦 Install Dependencies  \n",
    "3. 🔑 Configure API Key  \n",
    "4. 👉 Define Addition Tool (`@tool`)  \n",
    "5. 🔗 Import Tools  \n",
    "6. 🤖 Create LLM and Initialize Agent\n",
    "7. 🎯 Interactive Tests  \n",
    "8. ✅ Conclusions  \n"
   ]
  },
  {
   "cell_type": "markdown",
   "id": "d0f7657f",
   "metadata": {},
   "source": [
    "### 🛠️ **Objectives**\n",
    "\n",
    "- Define an **addition**and a **subtraction** tool with `@tool`.  \n",
    "- Create an **AgentExecutor** to orchestrate both tools.  \n",
    "- Test the agent with natural prompts.  \n",
    "---"
   ]
  },
  {
   "cell_type": "code",
   "execution_count": 18,
   "id": "2d9bc0e5",
   "metadata": {},
   "outputs": [],
   "source": [
    "from dotenv import load_dotenv\n",
    "import os"
   ]
  },
  {
   "cell_type": "code",
   "execution_count": 19,
   "id": "39c0fceb",
   "metadata": {},
   "outputs": [
    {
     "data": {
      "text/plain": [
       "True"
      ]
     },
     "execution_count": 19,
     "metadata": {},
     "output_type": "execute_result"
    }
   ],
   "source": [
    "# Load environment variables from .env file\n",
    "load_dotenv(override=True) "
   ]
  },
  {
   "cell_type": "code",
   "execution_count": 20,
   "id": "8622bb10",
   "metadata": {},
   "outputs": [],
   "source": [
    "# Set the OpenAI API key from the environment variable\n",
    "OPENAI_API_KEY = os.getenv(\"OPENAI_API_KEY\")"
   ]
  },
  {
   "cell_type": "markdown",
   "id": "a62a89b1",
   "metadata": {},
   "source": [
    "### 👉 **Define Tools with `@tool`**\n",
    "We use the `@tool` decorator to register an addition function automatically.\n",
    "\n",
    "```python\n",
    "from langchain.agents import tool\n",
    "\n",
    "@tool\n",
    "def add_numbers(input_str: str) -> str:\n",
    "    \"\"\"\n",
    "    Takes two numbers separated by a space and returns their sum.\n",
    "\n",
    "    Args:\n",
    "        input_str (str): Two numbers in the form \"A B\", e.g. \"3 5\"\n",
    "\n",
    "    Returns:\n",
    "        str: The sum A + B, or an error message if parsing fails.\n",
    "    \"\"\"\n",
    "    try:\n",
    "        a, b = map(float, input_str.split())\n",
    "        return str(a + b)\n",
    "    except Exception:\n",
    "        return \"error: please send two numbers separated by space, e.g. '3 5'\"\n",
    "\n",
    "```\n",
    "#### **Key components**\n",
    "\n",
    "1. **@tool decorator**\n",
    "   - Registers the function with LangChain\n",
    "   - Creates tool attributes (.name, .description, .func)\n",
    "   - Generates JSON schema for validation\n",
    "   - Transforms regular functions into callable tools\n",
    "\n",
    "2. **Function name**\n",
    "   - Used by LLM to select appropriate tool\n",
    "   - Used as reference in chains and tool mappings\n",
    "   - Appears in tool call logs for debugging\n",
    "   - Should clearly indicate the tool's purpose\n",
    "\n",
    "3. **Type annotations**\n",
    "   - Enable automatic input validation\n",
    "   - Create schema for parameters\n",
    "   - Allow proper serialization of inputs/outputs\n",
    "   - Help LLM understand required input formats\n",
    "\n",
    "4. **Docstring**\n",
    "   - Provides context for the LLM to decide when to use the tool\n",
    "   - Documents parameter requirements\n",
    "   - Explains expected outputs and behavior\n",
    "   - Critical for tool selection by the LLM\n",
    "\n",
    "5. **Implementation**\n",
    "   - Executes the actual operation\n",
    "   - Handles errors appropriately\n",
    "   - Returns properly formatted results\n",
    "   - Should be efficient and robust\n"
   ]
  },
  {
   "cell_type": "markdown",
   "id": "87f8ca55",
   "metadata": {},
   "source": [
    "### 🔗 **Import Tools and AgentExecutor**"
   ]
  },
  {
   "cell_type": "code",
   "execution_count": 21,
   "id": "25633551",
   "metadata": {},
   "outputs": [],
   "source": [
    "from langchain.agents.agent_types import AgentType\n",
    "from langchain_openai import ChatOpenAI\n",
    "from src.tools.math_tools import add_numbers, subtract_numbers\n",
    "from src.tools.search_tools import wikipedia_search\n",
    "from langchain.agents import initialize_agent"
   ]
  },
  {
   "cell_type": "code",
   "execution_count": 22,
   "id": "a2187231",
   "metadata": {},
   "outputs": [
    {
     "name": "stdout",
     "output_type": "stream",
     "text": [
      "Tools available: add_numbers subtract_numbers wikipedia_search\n"
     ]
    }
   ],
   "source": [
    "print(\"Tools available:\", add_numbers.name, subtract_numbers.name, wikipedia_search.name)"
   ]
  },
  {
   "cell_type": "code",
   "execution_count": 23,
   "id": "2d66d1a1",
   "metadata": {},
   "outputs": [
    {
     "name": "stdout",
     "output_type": "stream",
     "text": [
      "Args: Takes two numbers separated by a space and returns the result of A - B.\n",
      "\n",
      "Args:\n",
      "    input_str (str): Two numbers in the form \"A B\", e.g. \"8 3\"\n",
      "\n",
      "Returns:\n",
      "    str: The difference A − B, or an error message if parsing fails. Takes two numbers separated by a space and returns their sum.\n",
      "\n",
      "Args:\n",
      "    input_str (str): Two numbers in the form \"A B\", e.g. \"3 5\"\n",
      "\n",
      "Returns:\n",
      "    str: The sum A + B, or an error message if parsing fails. Performs a search on Wikipedia and returns a summary of the first result found.\n",
      "\n",
      "Args:\n",
      "    query (str): Search term.\n",
      "\n",
      "Returns:\n",
      "    str: Summary of the corresponding Wikipedia article.\n"
     ]
    }
   ],
   "source": [
    "print(\"Args:\", subtract_numbers.description, \n",
    "      add_numbers.description, \n",
    "      wikipedia_search.description)"
   ]
  },
  {
   "cell_type": "markdown",
   "id": "2512f0f3",
   "metadata": {},
   "source": [
    "## 🤖 **Create LLM and Initialize Agent**\n",
    "Instantiate the LLM (temperature=0 for determinism) and build the agent."
   ]
  },
  {
   "cell_type": "code",
   "execution_count": 68,
   "id": "0de982de",
   "metadata": {},
   "outputs": [],
   "source": [
    "# Configure the LLM\n",
    "llm = ChatOpenAI(temperature=0, model=\"gpt-4o\")"
   ]
  },
  {
   "cell_type": "code",
   "execution_count": 64,
   "id": "492981a7",
   "metadata": {},
   "outputs": [
    {
     "name": "stdout",
     "output_type": "stream",
     "text": [
      "In the context of artificial intelligence (AI), an \"agent\" refers to an entity that perceives its environment through sensors and acts upon that environment through actuators. Agents can be either software-based or physical entities, and they are designed to achieve specific goals or perform tasks.\n",
      "\n",
      "Here are some key characteristics of agents in AI:\n",
      "\n",
      "1. **Perception**: Agents gather information about their environment using sensors. This could involve data from cameras, microphones, or other input devices, depending on the type of agent.\n",
      "\n",
      "2. **Action**: Based on the information they perceive, agents take actions to affect their environment. This could involve moving, making decisions, or communicating with other agents or systems.\n",
      "\n",
      "3. **Autonomy**: Many agents operate autonomously, meaning they can make decisions and take actions without human intervention. However, some agents may require human input or oversight.\n",
      "\n",
      "4. **Goal-oriented**: Agents are typically designed to achieve specific objectives or goals. This could range from simple tasks, like sorting data, to complex tasks, like navigating a robot through an environment.\n",
      "\n",
      "5. **Adaptability**: Some agents can learn from their experiences and adapt their behavior over time, often using techniques from machine learning.\n",
      "\n",
      "6. **Types of Agents**: There are various types of agents, including:\n",
      "   - **Reactive agents**: Respond to stimuli from the environment without internal state or memory.\n",
      "   - **Deliberative agents**: Maintain an internal model of the world and use reasoning to make decisions.\n",
      "   - **Learning agents**: Improve their performance over time based on past experiences.\n",
      "\n",
      "In summary, an agent in AI is a fundamental concept that encapsulates the idea of an entity that perceives its environment, makes decisions, and acts to achieve specific goals, often with varying degrees of autonomy and adaptability.\n"
     ]
    }
   ],
   "source": [
    "# Test the LLM with a simple question \n",
    "answer = llm.invoke(\"What is an agent in AI?\")\n",
    "print(answer.content)"
   ]
  },
  {
   "cell_type": "markdown",
   "id": "4209759b",
   "metadata": {},
   "source": [
    "#### **Key parameters of `initialize_agent`**\n",
    "\n",
    "1. **`tools`**\n",
    "\n",
    "2.  **`llm`**\n",
    "\n",
    "3. **`agent`**:\n",
    "   - Specifies the reasoning framework for the agent.\n",
    "   - `\"zero-shot-react-description\"` enables:\n",
    "     - **Zero-shot reasoning**: The agent can solve tasks it hasn't seen before by thinking through the problem step by step.\n",
    "     - **React framework**: A logical loop of:\n",
    "       - **Reason** → Think about the task.\n",
    "       - **Act** → Use a tool to perform an action.\n",
    "       - **Observe** → Check the tool's output.\n",
    "       - **Plan** → Decide what to do next.\n",
    "\n",
    "4. **`verbose`**:\n",
    "   - If `True`, it prints detailed logs of the agent’s thought process.\n",
    "   - Useful for debugging or understanding how the agent makes decisions."
   ]
  },
  {
   "cell_type": "code",
   "execution_count": 69,
   "id": "74d7da85",
   "metadata": {},
   "outputs": [],
   "source": [
    "# Initialize the agent with the specified tools and LLM \n",
    "agent = initialize_agent(\n",
    "    tools= [add_numbers, subtract_numbers, wikipedia_search],\n",
    "    llm=llm,\n",
    "    agent=AgentType.CHAT_ZERO_SHOT_REACT_DESCRIPTION,\n",
    "    verbose=True\n",
    ")"
   ]
  },
  {
   "cell_type": "markdown",
   "id": "c5e64f70",
   "metadata": {},
   "source": [
    "---\n",
    "### 7️⃣ **Interactive Tests** 🎯"
   ]
  },
  {
   "cell_type": "code",
   "execution_count": 72,
   "id": "83921db6",
   "metadata": {},
   "outputs": [
    {
     "name": "stdout",
     "output_type": "stream",
     "text": [
      "\n",
      "\n",
      "\u001b[1m> Entering new AgentExecutor chain...\u001b[0m\n",
      "\u001b[32;1m\u001b[1;3mQuestion: What is the total GDP of the US, Canada, and Mexico in 2023?\n",
      "Thought: I need to add the GDP values of the US, Canada, and Mexico to find the total.\n",
      "Action:\n",
      "```\n",
      "{\n",
      "  \"action\": \"add_numbers\",\n",
      "  \"action_input\": \"27.72 2.14\"\n",
      "}\n",
      "```\n",
      "\u001b[0m\n",
      "Observation: \u001b[36;1m\u001b[1;3m29.86\u001b[0m\n",
      "Thought:\u001b[32;1m\u001b[1;3mTo find the total GDP of the US, Canada, and Mexico, I need to add the result of the previous addition (29.86) to Mexico's GDP.\n",
      "\n",
      "Action:\n",
      "```\n",
      "{\n",
      "  \"action\": \"add_numbers\",\n",
      "  \"action_input\": \"29.86 1.79\"\n",
      "}\n",
      "```\n",
      "\u001b[0m\n",
      "Observation: \u001b[36;1m\u001b[1;3m31.65\u001b[0m\n",
      "Thought:\u001b[32;1m\u001b[1;3mI now know the final answer.\n",
      "\n",
      "Final Answer: The total GDP of the US, Canada, and Mexico in 2023 is approximately $31.65 trillion.\u001b[0m\n",
      "\n",
      "\u001b[1m> Finished chain.\u001b[0m\n"
     ]
    },
    {
     "data": {
      "text/plain": [
       "{'input': \"In 2023, the US GDP was approximately $27.72 trillion, while Canada's was around $2.14 trillion and Mexico's was about $1.79 trillion what is the total.?\",\n",
       " 'output': 'The total GDP of the US, Canada, and Mexico in 2023 is approximately $31.65 trillion.'}"
      ]
     },
     "execution_count": 72,
     "metadata": {},
     "output_type": "execute_result"
    }
   ],
   "source": [
    "agent.invoke({\"input\": \"In 2023, the US GDP was approximately $27.72 trillion, while Canada's was around $2.14 trillion and Mexico's was about $1.79 trillion what is the total.?\"})"
   ]
  },
  {
   "cell_type": "code",
   "execution_count": 74,
   "id": "c158bd19",
   "metadata": {},
   "outputs": [
    {
     "name": "stdout",
     "output_type": "stream",
     "text": [
      "\n",
      "\n",
      "\u001b[1m> Entering new AgentExecutor chain...\u001b[0m\n",
      "\u001b[32;1m\u001b[1;3mQuestion: ¿Cuál es el plato típico de Antioquía y cuánto costaría invitar a 5 personas a almorzar?\n",
      "Thought: Primero, buscaré información sobre el plato típico de Antioquía.\n",
      "Action:\n",
      "```\n",
      "{\n",
      "  \"action\": \"wikipedia_search\",\n",
      "  \"action_input\": \"plato típico de Antioquía\"\n",
      "}\n",
      "```\n",
      "\u001b[0m\n",
      "Observation: \u001b[38;5;200m\u001b[1;3mNo Wikipedia page was found for this term.\u001b[0m\n",
      "Thought:\u001b[32;1m\u001b[1;3mQuestion: ¿Cuál es el plato típico de Antioquía y cuánto costaría invitar a 5 personas a almorzar?\n",
      "Thought: Dado que no encontré información en Wikipedia, intentaré proporcionar información basada en mi conocimiento previo. El plato típico de Antioquía es la bandeja paisa. Ahora, investigaré el costo promedio de una bandeja paisa para calcular el costo total para 5 personas.\n",
      "Action:\n",
      "```\n",
      "{\n",
      "  \"action\": \"wikipedia_search\",\n",
      "  \"action_input\": \"bandeja paisa\"\n",
      "}\n",
      "```\n",
      "\u001b[0m\n",
      "Observation: \u001b[38;5;200m\u001b[1;3mBandeja paisa (Spanish pronunciation: [banˌdexa ˈpai̯sa]; lit. 'Paisa platter'), with variations known as bandeja de arriero, bandeja montañera, and bandeja antioqueña, is one of the most representative meals in Colombian cuisine, especially of the Antioquia department and the Paisa region, as well as with the Colombian Coffee-Growers Axis (the departments of Caldas, Quindío and Risaralda, Tolima and Valle del Cauca). Paisa refers to a person from the Paisa region and bandeja is Spanish for platter.\n",
      "The main characteristic of this dish is the generous amount and variety of food in a traditional bandeja paisa: red beans cooked with pork, white rice, carne molida (ground meat), chicharrón, fried egg, plantain (plátano maduro), chorizo, arepa, hogao sauce, black pudding (morcilla), avocado and lemon.\n",
      "It is served in a platter or a tray.\n",
      "\n",
      "\n",
      "== Origin ==\n",
      "The origin of the bandeja paisa was influenced by several different cultures that inhabited Colombia throughout the centuries, including the indigenous peoples of Colombia, as well as colonial Spaniards and Africans.\u001b[0m\n",
      "Thought:\u001b[32;1m\u001b[1;3mThought: Ahora que sé que el plato típico de Antioquía es la bandeja paisa, necesito averiguar el costo promedio de una bandeja paisa para calcular el costo total para 5 personas. Buscaré información sobre el costo promedio de una bandeja paisa en Colombia.\n",
      "Action:\n",
      "```\n",
      "{\n",
      "  \"action\": \"wikipedia_search\",\n",
      "  \"action_input\": \"costo promedio bandeja paisa\"\n",
      "}\n",
      "```\n",
      "\u001b[0m\n",
      "Observation: \u001b[38;5;200m\u001b[1;3mNo Wikipedia page was found for this term.\u001b[0m\n",
      "Thought:\u001b[32;1m\u001b[1;3mQuestion: ¿Cuál es el plato típico de Antioquía y cuánto costaría invitar a 5 personas a almorzar?\n",
      "Thought: Dado que no encontré información sobre el costo promedio de una bandeja paisa en Wikipedia, utilizaré mi conocimiento previo. El costo de una bandeja paisa en un restaurante en Colombia puede variar, pero generalmente está entre 20,000 y 30,000 pesos colombianos. Usaré un valor promedio de 25,000 pesos colombianos para calcular el costo total para 5 personas.\n",
      "Action:\n",
      "```\n",
      "{\n",
      "  \"action\": \"add_numbers\",\n",
      "  \"action_input\": \"25000 25000\"\n",
      "}\n",
      "```\n",
      "\u001b[0m\n",
      "Observation: \u001b[36;1m\u001b[1;3m50000.0\u001b[0m\n",
      "Thought:\u001b[32;1m\u001b[1;3mContinuaré sumando para calcular el costo total para 5 personas.\n",
      "\n",
      "Action:\n",
      "```\n",
      "{\n",
      "  \"action\": \"add_numbers\",\n",
      "  \"action_input\": \"50000 25000\"\n",
      "}\n",
      "```\n",
      "\u001b[0m\n",
      "Observation: \u001b[36;1m\u001b[1;3m75000.0\u001b[0m\n",
      "Thought:\u001b[32;1m\u001b[1;3mContinuaré sumando para calcular el costo total para 5 personas.\n",
      "\n",
      "Action:\n",
      "```\n",
      "{\n",
      "  \"action\": \"add_numbers\",\n",
      "  \"action_input\": \"75000 25000\"\n",
      "}\n",
      "```\n",
      "\u001b[0m\n",
      "Observation: \u001b[36;1m\u001b[1;3m100000.0\u001b[0m\n",
      "Thought:\u001b[32;1m\u001b[1;3mContinuaré sumando para calcular el costo total para 5 personas.\n",
      "\n",
      "Action:\n",
      "```\n",
      "{\n",
      "  \"action\": \"add_numbers\",\n",
      "  \"action_input\": \"100000 25000\"\n",
      "}\n",
      "```\n",
      "\u001b[0m\n",
      "Observation: \u001b[36;1m\u001b[1;3m125000.0\u001b[0m\n",
      "Thought:\u001b[32;1m\u001b[1;3mContinuaré sumando para calcular el costo total para 5 personas.\n",
      "\n",
      "Action:\n",
      "```\n",
      "{\n",
      "  \"action\": \"add_numbers\",\n",
      "  \"action_input\": \"125000 25000\"\n",
      "}\n",
      "```\n",
      "\n",
      "\u001b[0m\n",
      "Observation: \u001b[36;1m\u001b[1;3m150000.0\u001b[0m\n",
      "Thought:\u001b[32;1m\u001b[1;3mAhora sé que el costo total para invitar a 5 personas a almorzar bandeja paisa, considerando un costo promedio de 25,000 pesos colombianos por bandeja, es de 150,000 pesos colombianos.\n",
      "\n",
      "Final Answer: El plato típico de Antioquía es la bandeja paisa. Invitar a 5 personas a almorzar bandeja paisa costaría aproximadamente 150,000 pesos colombianos.\u001b[0m\n",
      "\n",
      "\u001b[1m> Finished chain.\u001b[0m\n"
     ]
    },
    {
     "data": {
      "text/plain": [
       "{'input': '¿Cuál es el plato típico de Antioquía y cuánto costaría invitar a 5 personas a almorzar?',\n",
       " 'output': 'El plato típico de Antioquía es la bandeja paisa. Invitar a 5 personas a almorzar bandeja paisa costaría aproximadamente 150,000 pesos colombianos.'}"
      ]
     },
     "execution_count": 74,
     "metadata": {},
     "output_type": "execute_result"
    }
   ],
   "source": [
    "agent.invoke({\"input\": \"¿Cuál es el plato típico de Antioquía y cuánto costaría invitar a 5 personas a almorzar?\"})"
   ]
  },
  {
   "cell_type": "markdown",
   "id": "013ee427",
   "metadata": {},
   "source": [
    "### ✅ **Conclusions**\n",
    "\n",
    "- We defined *add_numbers* and *subtract_numbers* tools using @tool.  \n",
    "- The agent chooses and invokes the correct tool based on your prompt.  \n",
    "- In just a few lines, we have a full “prompt → reasoning → tool call → response” flow.  \n"
   ]
  }
 ],
 "metadata": {
  "kernelspec": {
   "display_name": "Python 3",
   "language": "python",
   "name": "python3"
  },
  "language_info": {
   "codemirror_mode": {
    "name": "ipython",
    "version": 3
   },
   "file_extension": ".py",
   "mimetype": "text/x-python",
   "name": "python",
   "nbconvert_exporter": "python",
   "pygments_lexer": "ipython3",
   "version": "3.10.11"
  }
 },
 "nbformat": 4,
 "nbformat_minor": 5
}
