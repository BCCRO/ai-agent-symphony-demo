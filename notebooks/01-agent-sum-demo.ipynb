{
 "cells": [
  {
   "cell_type": "markdown",
   "id": "092a12b5",
   "metadata": {},
   "source": [
    "# 🎶 **Demo 1: Math Agent with LangChain**\n",
    "In this notebook we’ll build a simple agent that can add and subtract two numbers using **LangChain** and a LLM."
   ]
  },
  {
   "cell_type": "markdown",
   "id": "7f559c33",
   "metadata": {},
   "source": [
    "### 📑 **Table of Contents**\n",
    "\n",
    "1. 🛠️ Objectives  \n",
    "2. 📦 Install Dependencies  \n",
    "3. 🔑 Configure API Key  \n",
    "4. 👉 Define Addition Tool (`@tool`)  \n",
    "5. 🔗 Import Tools  \n",
    "6. 🤖 Create LLM and Initialize Agent\n",
    "7. 🎯 Interactive Tests  \n",
    "8. ✅ Conclusions  \n"
   ]
  },
  {
   "cell_type": "markdown",
   "id": "d0f7657f",
   "metadata": {},
   "source": [
    "### 🛠️ **Objectives**\n",
    "\n",
    "- Define an **addition**and a **subtraction** tool with `@tool`.  \n",
    "- Create an **AgentExecutor** to orchestrate both tools.  \n",
    "- Test the agent with natural prompts.  \n",
    "---"
   ]
  },
  {
   "cell_type": "code",
   "execution_count": null,
   "id": "ffa189e8",
   "metadata": {},
   "outputs": [],
   "source": [
    "%pip install langchain openai --quiet"
   ]
  },
  {
   "cell_type": "code",
   "execution_count": 77,
   "id": "2d9bc0e5",
   "metadata": {},
   "outputs": [],
   "source": [
    "from dotenv import load_dotenv\n",
    "import os"
   ]
  },
  {
   "cell_type": "code",
   "execution_count": 62,
   "id": "39c0fceb",
   "metadata": {},
   "outputs": [
    {
     "data": {
      "text/plain": [
       "True"
      ]
     },
     "execution_count": 62,
     "metadata": {},
     "output_type": "execute_result"
    }
   ],
   "source": [
    "# Load environment variables from .env file\n",
    "load_dotenv(override=True) "
   ]
  },
  {
   "cell_type": "code",
   "execution_count": 63,
   "id": "8622bb10",
   "metadata": {},
   "outputs": [],
   "source": [
    "# Set the OpenAI API key from the environment variable\n",
    "OPENAI_API_KEY = os.getenv(\"OPENAI_API_KEY\")"
   ]
  },
  {
   "cell_type": "markdown",
   "id": "a62a89b1",
   "metadata": {},
   "source": [
    "### 👉 **Define Tools with `@tool`**\n",
    "We use the `@tool` decorator to register an addition function automatically.\n",
    "\n",
    "```python\n",
    "from langchain.agents import tool\n",
    "\n",
    "@tool\n",
    "def add_numbers(input_str: str) -> str:\n",
    "    \"\"\"\n",
    "    Takes two numbers separated by a space and returns their sum.\n",
    "\n",
    "    Args:\n",
    "        input_str (str): Two numbers in the form \"A B\", e.g. \"3 5\"\n",
    "\n",
    "    Returns:\n",
    "        str: The sum A + B, or an error message if parsing fails.\n",
    "    \"\"\"\n",
    "    try:\n",
    "        a, b = map(float, input_str.split())\n",
    "        return str(a + b)\n",
    "    except Exception:\n",
    "        return \"error: please send two numbers separated by space, e.g. '3 5'\"\n",
    "\n",
    "```\n",
    "#### **Key components**\n",
    "\n",
    "1. **@tool decorator**\n",
    "   - Registers the function with LangChain\n",
    "   - Creates tool attributes (.name, .description, .func)\n",
    "   - Generates JSON schema for validation\n",
    "   - Transforms regular functions into callable tools\n",
    "\n",
    "2. **Function name**\n",
    "   - Used by LLM to select appropriate tool\n",
    "   - Used as reference in chains and tool mappings\n",
    "   - Appears in tool call logs for debugging\n",
    "   - Should clearly indicate the tool's purpose\n",
    "\n",
    "3. **Type annotations**\n",
    "   - Enable automatic input validation\n",
    "   - Create schema for parameters\n",
    "   - Allow proper serialization of inputs/outputs\n",
    "   - Help LLM understand required input formats\n",
    "\n",
    "4. **Docstring**\n",
    "   - Provides context for the LLM to decide when to use the tool\n",
    "   - Documents parameter requirements\n",
    "   - Explains expected outputs and behavior\n",
    "   - Critical for tool selection by the LLM\n",
    "\n",
    "5. **Implementation**\n",
    "   - Executes the actual operation\n",
    "   - Handles errors appropriately\n",
    "   - Returns properly formatted results\n",
    "   - Should be efficient and robust\n"
   ]
  },
  {
   "cell_type": "markdown",
   "id": "87f8ca55",
   "metadata": {},
   "source": [
    "### 🔗 **Import Tools and AgentExecutor**"
   ]
  },
  {
   "cell_type": "code",
   "execution_count": 29,
   "id": "c6360332",
   "metadata": {},
   "outputs": [
    {
     "data": {
      "text/plain": [
       "'c:\\\\Users\\\\ASUS\\\\Documents\\\\GitHub\\\\ai-agent-symphony-demo\\\\notebooks'"
      ]
     },
     "execution_count": 29,
     "metadata": {},
     "output_type": "execute_result"
    }
   ],
   "source": [
    "os.getcwd()"
   ]
  },
  {
   "cell_type": "code",
   "execution_count": 30,
   "id": "97731735",
   "metadata": {},
   "outputs": [],
   "source": [
    "os.chdir(r\"c:\\\\Users\\\\ASUS\\\\Documents\\\\GitHub\\\\ai-agent-symphony-demo\")"
   ]
  },
  {
   "cell_type": "code",
   "execution_count": 96,
   "id": "25633551",
   "metadata": {},
   "outputs": [],
   "source": [
    "from langchain.agents.agent_types import AgentType\n",
    "from langchain_openai import ChatOpenAI\n",
    "from src.tools.math_tools import add_numbers, subtract_numbers\n",
    "from src.tools.search_tools import wiki_search\n",
    "from langchain.agents import initialize_agent"
   ]
  },
  {
   "cell_type": "code",
   "execution_count": null,
   "id": "a2187231",
   "metadata": {},
   "outputs": [
    {
     "name": "stdout",
     "output_type": "stream",
     "text": [
      "Tools available: add_numbers subtract_numbers wiki_search\n"
     ]
    }
   ],
   "source": [
    "print(\"Tools available:\", add_numbers.name, subtract_numbers.name, wiki_search.name)"
   ]
  },
  {
   "cell_type": "code",
   "execution_count": 100,
   "id": "2d66d1a1",
   "metadata": {},
   "outputs": [
    {
     "name": "stdout",
     "output_type": "stream",
     "text": [
      "Args: Takes two numbers separated by a space and returns the result of A - B.\n",
      "\n",
      "Args:\n",
      "    input_str (str): Two numbers in the form \"A B\", e.g. \"8 3\"\n",
      "\n",
      "Returns:\n",
      "    str: The difference A − B, or an error message if parsing fails. Takes two numbers separated by a space and returns their sum.\n",
      "\n",
      "Args:\n",
      "    input_str (str): Two numbers in the form \"A B\", e.g. \"3 5\"\n",
      "\n",
      "Returns:\n",
      "    str: The sum A + B, or an error message if parsing fails. Searches Wikipedia for the given query and returns the first sentence of the summary.\n",
      "\n",
      "Args:\n",
      "    query (str): Search term for Wikipedia.\n",
      "\n",
      "Returns:\n",
      "    str: First sentence of the Wikipedia summary or an error message.\n"
     ]
    }
   ],
   "source": [
    "print(\"Args:\", subtract_numbers.description, \n",
    "      add_numbers.description, \n",
    "      wiki_search.description)"
   ]
  },
  {
   "cell_type": "markdown",
   "id": "2512f0f3",
   "metadata": {},
   "source": [
    "## 🤖 **Create LLM and Initialize Agent**\n",
    "Instantiate the LLM (temperature=0 for determinism) and build the agent."
   ]
  },
  {
   "cell_type": "code",
   "execution_count": 66,
   "id": "0de982de",
   "metadata": {},
   "outputs": [],
   "source": [
    "# Configure the LLM\n",
    "llm = ChatOpenAI(temperature=0, model=\"gpt-4o\")"
   ]
  },
  {
   "cell_type": "code",
   "execution_count": 82,
   "id": "492981a7",
   "metadata": {},
   "outputs": [
    {
     "name": "stdout",
     "output_type": "stream",
     "text": [
      "In the context of artificial intelligence (AI), an agent is an entity that perceives its environment through sensors and acts upon that environment through actuators. The agent's goal is to perform actions that maximize some notion of cumulative reward or achieve specific objectives. Agents can be simple or complex, and they can operate in a wide range of environments, from highly controlled and predictable to highly dynamic and uncertain.\n",
      "\n",
      "There are several types of agents in AI, including:\n",
      "\n",
      "1. **Simple Reflex Agents**: These agents select actions based on the current percept, ignoring the rest of the percept history. They operate on condition-action rules, such as \"if condition, then action.\"\n",
      "\n",
      "2. **Model-Based Reflex Agents**: These agents maintain an internal model of the world, which helps them handle partially observable environments. They use this model to keep track of the state of the world and make decisions based on both the current percept and the history of percepts.\n",
      "\n",
      "3. **Goal-Based Agents**: These agents act to achieve specific goals. They use goal information to guide their actions, often employing search and planning algorithms to find sequences of actions that lead to the desired outcome.\n",
      "\n",
      "4. **Utility-Based Agents**: These agents aim to maximize a utility function, which is a measure of the agent's happiness or satisfaction with a particular state of the world. They make decisions based on the expected utility of different actions.\n",
      "\n",
      "5. **Learning Agents**: These agents have the ability to improve their performance over time by learning from their experiences. They can adapt to changes in the environment and improve their decision-making strategies.\n",
      "\n",
      "In AI research and applications, agents are often used to model and solve problems in various domains, such as robotics, natural language processing, autonomous vehicles, and more. The design and implementation of an agent depend on the specific requirements and constraints of the task it is intended to perform.\n"
     ]
    }
   ],
   "source": [
    "# Test the LLM with a simple question \n",
    "answer = llm.invoke(\"What is an agent in AI?\")\n",
    "print(answer.content)"
   ]
  },
  {
   "cell_type": "markdown",
   "id": "4209759b",
   "metadata": {},
   "source": [
    "#### **Key parameters of `initialize_agent`**\n",
    "\n",
    "1. **`tools`**\n",
    "\n",
    "2.  **`llm`**\n",
    "\n",
    "3. **`agent`**:\n",
    "   - Specifies the reasoning framework for the agent.\n",
    "   - `\"zero-shot-react-description\"` enables:\n",
    "     - **Zero-shot reasoning**: The agent can solve tasks it hasn't seen before by thinking through the problem step by step.\n",
    "     - **React framework**: A logical loop of:\n",
    "       - **Reason** → Think about the task.\n",
    "       - **Act** → Use a tool to perform an action.\n",
    "       - **Observe** → Check the tool's output.\n",
    "       - **Plan** → Decide what to do next.\n",
    "\n",
    "4. **`verbose`**:\n",
    "   - If `True`, it prints detailed logs of the agent’s thought process.\n",
    "   - Useful for debugging or understanding how the agent makes decisions."
   ]
  },
  {
   "cell_type": "code",
   "execution_count": 83,
   "id": "74d7da85",
   "metadata": {},
   "outputs": [],
   "source": [
    "# Initialize the agent with the specified tools and LLM \n",
    "agent = initialize_agent(\n",
    "    tools= [add_numbers, subtract_numbers, wiki_search],\n",
    "    llm=llm,\n",
    "    agent=AgentType.CHAT_ZERO_SHOT_REACT_DESCRIPTION,\n",
    "    verbose=True\n",
    ")"
   ]
  },
  {
   "cell_type": "markdown",
   "id": "c5e64f70",
   "metadata": {},
   "source": [
    "---\n",
    "### 7️⃣ **Interactive Tests** 🎯"
   ]
  },
  {
   "cell_type": "code",
   "execution_count": 95,
   "id": "15e61c3c",
   "metadata": {},
   "outputs": [
    {
     "name": "stdout",
     "output_type": "stream",
     "text": [
      "🏷️ Prompt: Can you add 10 and 15?\n",
      "\n",
      "\n",
      "\u001b[1m> Entering new AgentExecutor chain...\u001b[0m\n",
      "\u001b[32;1m\u001b[1;3mQuestion: Can you add 10 and 15?\n",
      "Thought: I need to use the add_numbers tool to find the sum of 10 and 15.\n",
      "Action:\n",
      "```\n",
      "{\n",
      "  \"action\": \"add_numbers\",\n",
      "  \"action_input\": \"10 15\"\n",
      "}\n",
      "```\n",
      "\u001b[0m\n",
      "Observation: \u001b[36;1m\u001b[1;3m25.0\u001b[0m\n",
      "Thought:\u001b[32;1m\u001b[1;3mI now know the final answer. \n",
      "\n",
      "Final Answer: The sum of 10 and 15 is 25.0.\u001b[0m\n",
      "\n",
      "\u001b[1m> Finished chain.\u001b[0m\n",
      "➡️ Response: {'input': 'Can you add 10 and 15?', 'output': 'The sum of 10 and 15 is 25.0.'} \n",
      "\n",
      "🏷️ Prompt: Please subtract 7.5 from 20\n",
      "\n",
      "\n",
      "\u001b[1m> Entering new AgentExecutor chain...\u001b[0m\n",
      "\u001b[32;1m\u001b[1;3mQuestion: Please subtract 7.5 from 20\n",
      "Thought: I need to perform a subtraction operation with the numbers 20 and 7.5.\n",
      "Action:\n",
      "```\n",
      "{\n",
      "  \"action\": \"subtract_numbers\",\n",
      "  \"action_input\": \"20 7.5\"\n",
      "}\n",
      "```\n",
      "\u001b[0m\n",
      "Observation: \u001b[33;1m\u001b[1;3m12.5\u001b[0m\n",
      "Thought:\u001b[32;1m\u001b[1;3mI now know the final answer. \n",
      "\n",
      "Final Answer: 12.5\u001b[0m\n",
      "\n",
      "\u001b[1m> Finished chain.\u001b[0m\n",
      "➡️ Response: {'input': 'Please subtract 7.5 from 20', 'output': '12.5'} \n",
      "\n",
      "🏷️ Prompt: In 2023, the US GDP was approximately $27.72 trillion, while Canada's was around $2.14 trillion and Mexico's was about $1.79 trillion what is the total.\n",
      "\n",
      "\n",
      "\u001b[1m> Entering new AgentExecutor chain...\u001b[0m\n",
      "\u001b[32;1m\u001b[1;3mQuestion: What is the total GDP of the US, Canada, and Mexico in 2023?\n",
      "Thought: I need to add the GDP values of the US, Canada, and Mexico to find the total.\n",
      "Action:\n",
      "```\n",
      "{\n",
      "  \"action\": \"add_numbers\",\n",
      "  \"action_input\": \"27.72 2.14\"\n",
      "}\n",
      "```\n",
      "\u001b[0m\n",
      "Observation: \u001b[36;1m\u001b[1;3m29.86\u001b[0m\n",
      "Thought:\u001b[32;1m\u001b[1;3mTo find the total GDP of the US, Canada, and Mexico, I need to add the result of the previous addition to Mexico's GDP.\n",
      "\n",
      "Action:\n",
      "```\n",
      "{\n",
      "  \"action\": \"add_numbers\",\n",
      "  \"action_input\": \"29.86 1.79\"\n",
      "}\n",
      "```\n",
      "\u001b[0m\n",
      "Observation: \u001b[36;1m\u001b[1;3m31.65\u001b[0m\n",
      "Thought:\u001b[32;1m\u001b[1;3mI now know the final answer.\n",
      "Final Answer: The total GDP of the US, Canada, and Mexico in 2023 is approximately $31.65 trillion.\u001b[0m\n",
      "\n",
      "\u001b[1m> Finished chain.\u001b[0m\n",
      "➡️ Response: {'input': \"In 2023, the US GDP was approximately $27.72 trillion, while Canada's was around $2.14 trillion and Mexico's was about $1.79 trillion what is the total.\", 'output': 'The total GDP of the US, Canada, and Mexico in 2023 is approximately $31.65 trillion.'} \n",
      "\n",
      "🏷️ Prompt: What is the capital of France?\n",
      "\n",
      "\n",
      "\u001b[1m> Entering new AgentExecutor chain...\u001b[0m\n",
      "\u001b[32;1m\u001b[1;3mQuestion: What is the capital of France?\n",
      "Thought: I know that the capital of France is Paris, but I will confirm this with a Wikipedia search to ensure accuracy.\n",
      "Action:\n",
      "```\n",
      "{\n",
      "  \"action\": \"wiki_search\",\n",
      "  \"action_input\": \"capital of France\"\n",
      "}\n",
      "```\n",
      "\u001b[0m\n",
      "Observation: \u001b[38;5;200m\u001b[1;3mThis is a chronological list of capitals of France.\u001b[0m\n",
      "Thought:\u001b[32;1m\u001b[1;3mThe capital of France is Paris. \n",
      "\n",
      "Final Answer: Paris\u001b[0m\n",
      "\n",
      "\u001b[1m> Finished chain.\u001b[0m\n",
      "➡️ Response: {'input': 'What is the capital of France?', 'output': 'Paris'} \n",
      "\n",
      "🏷️ Prompt: ¿Cuántos habitantes tiene México y Estados Unidos? ¿Cuál es la diferencia entre ellos?\n",
      "\n",
      "\n",
      "\u001b[1m> Entering new AgentExecutor chain...\u001b[0m\n",
      "\u001b[32;1m\u001b[1;3mQuestion: ¿Cuántos habitantes tiene México y Estados Unidos? ¿Cuál es la diferencia entre ellos?\n",
      "Thought: Necesito buscar la población actual de México y Estados Unidos para poder calcular la diferencia.\n",
      "Action:\n",
      "```\n",
      "{\n",
      "  \"action\": \"wiki_search\",\n",
      "  \"action_input\": \"Población de México\"\n",
      "}\n",
      "```\n",
      "\u001b[0m\n",
      "Observation: \u001b[38;5;200m\u001b[1;3mWith a population of about 129 million in 2022, Mexico is the 10th most populated country in the world.\u001b[0m\n",
      "Thought:\u001b[32;1m\u001b[1;3mNecesito buscar la población actual de Estados Unidos para poder calcular la diferencia.\n",
      "Action:\n",
      "```\n",
      "{\n",
      "  \"action\": \"wiki_search\",\n",
      "  \"action_input\": \"Población de Estados Unidos\"\n",
      "}\n",
      "```\n",
      "\u001b[0m\n",
      "Observation: \u001b[38;5;200m\u001b[1;3mMexico, officially the United Mexican States, is a country in North America.\u001b[0m\n",
      "Thought:\u001b[32;1m\u001b[1;3mIt seems there was an error in retrieving the population of the United States. I will try again to find the correct information.\n",
      "\n",
      "Action:\n",
      "```\n",
      "{\n",
      "  \"action\": \"wiki_search\",\n",
      "  \"action_input\": \"Población de Estados Unidos\"\n",
      "}\n",
      "```\n",
      "\u001b[0m\n",
      "Observation: \u001b[38;5;200m\u001b[1;3mMexico, officially the United Mexican States, is a country in North America.\u001b[0m\n",
      "Thought:\u001b[32;1m\u001b[1;3mIt seems there was an error in retrieving the population of the United States. I will try a different approach to find the correct information.\n",
      "\n",
      "Action:\n",
      "```\n",
      "{\n",
      "  \"action\": \"wiki_search\",\n",
      "  \"action_input\": \"United States population\"\n",
      "}\n",
      "```\n",
      "\u001b[0m\n",
      "Observation: \u001b[38;5;200m\u001b[1;3mThe United States is the most populous country in the Americas and the Western Hemisphere, with an estimated population of 340,110,988 on July 1, 2024, according to the U.S. Census Bureau.\u001b[0m\n",
      "Thought:\u001b[32;1m\u001b[1;3mAhora que tengo las poblaciones de ambos países, puedo calcular la diferencia entre ellas. La población de México es de aproximadamente 129 millones y la de Estados Unidos es de aproximadamente 340,110,988.\n",
      "\n",
      "Action:\n",
      "```\n",
      "{\n",
      "  \"action\": \"subtract_numbers\",\n",
      "  \"action_input\": \"340110988 129000000\"\n",
      "}\n",
      "```\n",
      "\n",
      "\u001b[0m\n",
      "Observation: \u001b[33;1m\u001b[1;3m211110988.0\u001b[0m\n",
      "Thought:\u001b[32;1m\u001b[1;3mAhora que he calculado la diferencia entre las poblaciones de Estados Unidos y México, puedo proporcionar la respuesta final.\n",
      "\n",
      "Final Answer: México tiene aproximadamente 129 millones de habitantes, mientras que Estados Unidos tiene aproximadamente 340,110,988 habitantes. La diferencia en la población entre Estados Unidos y México es de aproximadamente 211,110,988 personas.\u001b[0m\n",
      "\n",
      "\u001b[1m> Finished chain.\u001b[0m\n",
      "➡️ Response: {'input': '¿Cuántos habitantes tiene México y Estados Unidos? ¿Cuál es la diferencia entre ellos?', 'output': 'México tiene aproximadamente 129 millones de habitantes, mientras que Estados Unidos tiene aproximadamente 340,110,988 habitantes. La diferencia en la población entre Estados Unidos y México es de aproximadamente 211,110,988 personas.'} \n",
      "\n"
     ]
    }
   ],
   "source": [
    "prompts = [\n",
    "    \"Can you add 10 and 15?\",\n",
    "    \"Please subtract 7.5 from 20\",\n",
    "    \"In 2023, the US GDP was approximately $27.72 trillion, while Canada's was around $2.14 trillion and Mexico's was about $1.79 trillion what is the total.\",\n",
    "    \"What is the capital of France?\",\n",
    "    \"¿Cuántos habitantes tiene México y Estados Unidos? ¿Cuál es la diferencia entre ellos?\",\n",
    "]\n",
    "\n",
    "for prompt in prompts:\n",
    "    print(f\"🏷️ Prompt: {prompt}\")\n",
    "    print(\"➡️ Response:\", agent.invoke({\"input\": prompt}), \"\\n\")"
   ]
  },
  {
   "cell_type": "markdown",
   "id": "1febd6ea",
   "metadata": {},
   "source": [
    "### ✅ **Conclusions**\n",
    "\n",
    "- We defined **add_numbers** and **subtract_numbers** tools using `@tool`.  \n",
    "- The agent chooses and invokes the correct tool based on your prompt.  \n",
    "- In just a few lines, we have a full “prompt → reasoning → tool call → response” flow.  \n",
    "\n",
    "**Ready for the next orchestration demo!**"
   ]
  }
 ],
 "metadata": {
  "kernelspec": {
   "display_name": "Python 3",
   "language": "python",
   "name": "python3"
  },
  "language_info": {
   "codemirror_mode": {
    "name": "ipython",
    "version": 3
   },
   "file_extension": ".py",
   "mimetype": "text/x-python",
   "name": "python",
   "nbconvert_exporter": "python",
   "pygments_lexer": "ipython3",
   "version": "3.10.11"
  }
 },
 "nbformat": 4,
 "nbformat_minor": 5
}
