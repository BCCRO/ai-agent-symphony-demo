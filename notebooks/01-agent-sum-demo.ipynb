{
 "cells": [
  {
   "cell_type": "markdown",
   "id": "092a12b5",
   "metadata": {},
   "source": [
    "# 🎶 **Demo 1: Math Agent with LangChain**\n",
    "In this notebook we’ll build a simple agent that can add and subtract two numbers using **LangChain** and a LLM."
   ]
  },
  {
   "cell_type": "markdown",
   "id": "7f559c33",
   "metadata": {},
   "source": [
    "---\n",
    "### 📑 **Table of Contents**\n",
    "\n",
    "1. 🛠️ Objectives  \n",
    "2. 📦 Install Dependencies  \n",
    "3. 🔑 Configure API Key  \n",
    "4. 👉 Define Addition Tool (`@tool`)  \n",
    "5. 🔗 Import Tools  \n",
    "6. 🤖 Create LLM and AgentExecutor  \n",
    "7. 🎯 Interactive Tests  \n",
    "8. ✅ Conclusions  \n",
    "---"
   ]
  },
  {
   "cell_type": "markdown",
   "id": "d0f7657f",
   "metadata": {},
   "source": [
    "---\n",
    "### 🛠️ **Objectives**\n",
    "\n",
    "- Define an **addition**and a **subtraction** tool with `@tool`.  \n",
    "- Create an **AgentExecutor** to orchestrate both tools.  \n",
    "- Test the agent with natural prompts.  \n",
    "---"
   ]
  },
  {
   "cell_type": "code",
   "execution_count": null,
   "id": "ffa189e8",
   "metadata": {},
   "outputs": [],
   "source": [
    "%pip install langchain openai --quiet"
   ]
  },
  {
   "cell_type": "code",
   "execution_count": 22,
   "id": "2d9bc0e5",
   "metadata": {},
   "outputs": [],
   "source": [
    "from dotenv import load_dotenv\n",
    "import os"
   ]
  },
  {
   "cell_type": "code",
   "execution_count": 62,
   "id": "39c0fceb",
   "metadata": {},
   "outputs": [
    {
     "data": {
      "text/plain": [
       "True"
      ]
     },
     "execution_count": 62,
     "metadata": {},
     "output_type": "execute_result"
    }
   ],
   "source": [
    "# Load environment variables from .env file\n",
    "load_dotenv(override=True) "
   ]
  },
  {
   "cell_type": "code",
   "execution_count": 63,
   "id": "8622bb10",
   "metadata": {},
   "outputs": [],
   "source": [
    "# Set the OpenAI API key from the environment variable\n",
    "OPENAI_API_KEY = os.getenv(\"OPENAI_API_KEY\")"
   ]
  },
  {
   "cell_type": "markdown",
   "id": "a62a89b1",
   "metadata": {},
   "source": [
    "---\n",
    "### 4️⃣ **Define Tools with `@tool`**\n",
    "We use the `@tool` decorator to register an addition function automatically.\n",
    "\n",
    "```python\n",
    "from langchain.agents import tool\n",
    "\n",
    "@tool\n",
    "def add_numbers(input_str: str) -> str:\n",
    "    \"\"\"\n",
    "    Takes two numbers separated by a space and returns their sum.\n",
    "\n",
    "    Args:\n",
    "        input_str (str): Two numbers in the form \"A B\", e.g. \"3 5\"\n",
    "\n",
    "    Returns:\n",
    "        str: The sum A + B, or an error message if parsing fails.\n",
    "    \"\"\"\n",
    "    try:\n",
    "        a, b = map(float, input_str.split())\n",
    "        return str(a + b)\n",
    "    except Exception:\n",
    "        return \"error: please send two numbers separated by space, e.g. '3 5'\"\n",
    "\n",
    "```\n",
    "#### **Key components**\n",
    "\n",
    "1. **@tool decorator**\n",
    "   - Registers the function with LangChain\n",
    "   - Creates tool attributes (.name, .description, .func)\n",
    "   - Generates JSON schema for validation\n",
    "   - Transforms regular functions into callable tools\n",
    "\n",
    "2. **Function name**\n",
    "   - Used by LLM to select appropriate tool\n",
    "   - Used as reference in chains and tool mappings\n",
    "   - Appears in tool call logs for debugging\n",
    "   - Should clearly indicate the tool's purpose\n",
    "\n",
    "3. **Type annotations**\n",
    "   - Enable automatic input validation\n",
    "   - Create schema for parameters\n",
    "   - Allow proper serialization of inputs/outputs\n",
    "   - Help LLM understand required input formats\n",
    "\n",
    "4. **Docstring**\n",
    "   - Provides context for the LLM to decide when to use the tool\n",
    "   - Documents parameter requirements\n",
    "   - Explains expected outputs and behavior\n",
    "   - Critical for tool selection by the LLM\n",
    "\n",
    "5. **Implementation**\n",
    "   - Executes the actual operation\n",
    "   - Handles errors appropriately\n",
    "   - Returns properly formatted results\n",
    "   - Should be efficient and robust\n",
    "\n",
    "---"
   ]
  },
  {
   "cell_type": "markdown",
   "id": "87f8ca55",
   "metadata": {},
   "source": [
    "---\n",
    "### 🔗 **Import Tools and AgentExecutor**"
   ]
  },
  {
   "cell_type": "code",
   "execution_count": 29,
   "id": "c6360332",
   "metadata": {},
   "outputs": [
    {
     "data": {
      "text/plain": [
       "'c:\\\\Users\\\\ASUS\\\\Documents\\\\GitHub\\\\ai-agent-symphony-demo\\\\notebooks'"
      ]
     },
     "execution_count": 29,
     "metadata": {},
     "output_type": "execute_result"
    }
   ],
   "source": [
    "os.getcwd()"
   ]
  },
  {
   "cell_type": "code",
   "execution_count": 30,
   "id": "97731735",
   "metadata": {},
   "outputs": [],
   "source": [
    "os.chdir(r\"c:\\\\Users\\\\ASUS\\\\Documents\\\\GitHub\\\\ai-agent-symphony-demo\")"
   ]
  },
  {
   "cell_type": "code",
   "execution_count": 49,
   "id": "25633551",
   "metadata": {},
   "outputs": [],
   "source": [
    "from langchain.agents.agent_types import AgentType\n",
    "from langchain_openai import ChatOpenAI\n",
    "from src.tools.math_tools import add_numbers, subtract_numbers\n",
    "from langchain.agents import initialize_agent"
   ]
  },
  {
   "cell_type": "code",
   "execution_count": 34,
   "id": "a2187231",
   "metadata": {},
   "outputs": [
    {
     "name": "stdout",
     "output_type": "stream",
     "text": [
      "Tools available: add_numbers subtract_numbers\n"
     ]
    }
   ],
   "source": [
    "print(\"Tools available:\", add_numbers.name, subtract_numbers.name)"
   ]
  },
  {
   "cell_type": "markdown",
   "id": "2512f0f3",
   "metadata": {},
   "source": [
    "---\n",
    "## 6️⃣ **Create LLM and AgentExecutor**\n",
    "Instantiate the LLM (temperature=0 for determinism) and build the agent."
   ]
  },
  {
   "cell_type": "code",
   "execution_count": 66,
   "id": "0de982de",
   "metadata": {},
   "outputs": [],
   "source": [
    "# Configure the LLM\n",
    "llm = ChatOpenAI(temperature=0, model=\"gpt-4o\")"
   ]
  },
  {
   "cell_type": "code",
   "execution_count": null,
   "id": "492981a7",
   "metadata": {},
   "outputs": [
    {
     "name": "stdout",
     "output_type": "stream",
     "text": [
      "In the context of artificial intelligence (AI), an agent is an entity that perceives its environment through sensors and acts upon that environment through actuators or effectors. The agent's actions are determined by a set of rules or a decision-making process, which is often based on the information it gathers from its environment. The goal of an AI agent is typically to achieve specific objectives or maximize some notion of cumulative reward.\n",
      "\n",
      "AI agents can be classified into different types based on their capabilities and complexity:\n",
      "\n",
      "1. **Simple Reflex Agents**: These agents select actions based solely on the current percept, ignoring the rest of the percept history. They operate on condition-action rules, also known as production rules.\n",
      "\n",
      "2. **Model-Based Reflex Agents**: These agents maintain an internal model of the world, which allows them to keep track of parts of the world they cannot see. This model helps them make decisions based on both the current percept and the history of percepts.\n",
      "\n",
      "3. **Goal-Based Agents**: These agents act to achieve specific goals. They use goal information to guide their actions, which often involves planning and decision-making processes to determine the best course of action to achieve their objectives.\n",
      "\n",
      "4. **Utility-Based Agents**: These agents aim to maximize their own expected \"utility,\" a measure of satisfaction or happiness. They evaluate different possible actions based on a utility function and choose the action that maximizes expected utility.\n",
      "\n",
      "5. **Learning Agents**: These agents have the ability to learn from their experiences and improve their performance over time. They can adapt to changes in the environment and improve their decision-making processes based on feedback.\n",
      "\n",
      "AI agents can be implemented in various forms, ranging from simple software programs to complex robotic systems, and they are used in a wide range of applications, including autonomous vehicles, virtual assistants, and game-playing systems.\n"
     ]
    }
   ],
   "source": [
    "# Test the LLM with a simple question \n",
    "answer = llm.invoke(\"What is an agent in AI?\")\n",
    "print(answer.content)"
   ]
  },
  {
   "cell_type": "code",
   "execution_count": 71,
   "id": "74d7da85",
   "metadata": {},
   "outputs": [],
   "source": [
    "# Initialize the agent with the specified tools and LLM \n",
    "agent = initiagent = initialize_agent(\n",
    "    tools= [add_numbers, subtract_numbers],\n",
    "    llm=llm,\n",
    "    agent=AgentType.CHAT_ZERO_SHOT_REACT_DESCRIPTION,\n",
    "    verbose=True\n",
    ")"
   ]
  },
  {
   "cell_type": "markdown",
   "id": "c5e64f70",
   "metadata": {},
   "source": [
    "---\n",
    "### 7️⃣ **Interactive Tests** 🎯"
   ]
  },
  {
   "cell_type": "code",
   "execution_count": 73,
   "id": "15e61c3c",
   "metadata": {},
   "outputs": [
    {
     "name": "stdout",
     "output_type": "stream",
     "text": [
      "🏷️ Prompt: Can you add 10 and 15?\n",
      "\n",
      "\n",
      "\u001b[1m> Entering new AgentExecutor chain...\u001b[0m\n",
      "\u001b[32;1m\u001b[1;3mQuestion: Can you add 10 and 15?\n",
      "Thought: I need to use the add_numbers tool to find the sum of 10 and 15.\n",
      "Action:\n",
      "```\n",
      "{\n",
      "  \"action\": \"add_numbers\",\n",
      "  \"action_input\": \"10 15\"\n",
      "}\n",
      "```\n",
      "\u001b[0m\n",
      "Observation: \u001b[36;1m\u001b[1;3m25.0\u001b[0m\n",
      "Thought:\u001b[32;1m\u001b[1;3mI now know the final answer. \n",
      "Final Answer: The sum of 10 and 15 is 25.0.\u001b[0m\n",
      "\n",
      "\u001b[1m> Finished chain.\u001b[0m\n",
      "➡️ Response: {'input': 'Can you add 10 and 15?', 'output': 'The sum of 10 and 15 is 25.0.'} \n",
      "\n",
      "🏷️ Prompt: Please subtract 7.5 from 20\n",
      "\n",
      "\n",
      "\u001b[1m> Entering new AgentExecutor chain...\u001b[0m\n",
      "\u001b[32;1m\u001b[1;3mQuestion: Please subtract 7.5 from 20\n",
      "Thought: I need to subtract 7.5 from 20 to find the result.\n",
      "Action:\n",
      "```\n",
      "{\n",
      "  \"action\": \"subtract_numbers\",\n",
      "  \"action_input\": \"20 7.5\"\n",
      "}\n",
      "```\n",
      "\u001b[0m\n",
      "Observation: \u001b[33;1m\u001b[1;3m12.5\u001b[0m\n",
      "Thought:\u001b[32;1m\u001b[1;3mI now know the final answer. \n",
      "\n",
      "Final Answer: 12.5\u001b[0m\n",
      "\n",
      "\u001b[1m> Finished chain.\u001b[0m\n",
      "➡️ Response: {'input': 'Please subtract 7.5 from 20', 'output': '12.5'} \n",
      "\n",
      "🏷️ Prompt: What is 100 minus 42?\n",
      "\n",
      "\n",
      "\u001b[1m> Entering new AgentExecutor chain...\u001b[0m\n",
      "\u001b[32;1m\u001b[1;3mQuestion: What is 100 minus 42?\n",
      "Thought: I need to subtract 42 from 100 to find the answer.\n",
      "Action:\n",
      "```\n",
      "{\n",
      "  \"action\": \"subtract_numbers\",\n",
      "  \"action_input\": \"100 42\"\n",
      "}\n",
      "```\n",
      "\u001b[0m\n",
      "Observation: \u001b[33;1m\u001b[1;3m58.0\u001b[0m\n",
      "Thought:\u001b[32;1m\u001b[1;3mI now know the final answer. \n",
      "Final Answer: 58.0\u001b[0m\n",
      "\n",
      "\u001b[1m> Finished chain.\u001b[0m\n",
      "➡️ Response: {'input': 'What is 100 minus 42?', 'output': '58.0'} \n",
      "\n"
     ]
    }
   ],
   "source": [
    "prompts = [\n",
    "    \"Can you add 10 and 15?\",\n",
    "    \"Please subtract 7.5 from 20\",\n",
    "    \"What is 100 minus 42?\"\n",
    "]\n",
    "\n",
    "for prompt in prompts:\n",
    "    print(f\"🏷️ Prompt: {prompt}\")\n",
    "    print(\"➡️ Response:\", agent.invoke({\"input\": prompt}), \"\\n\")"
   ]
  },
  {
   "cell_type": "markdown",
   "id": "1febd6ea",
   "metadata": {},
   "source": [
    "---\n",
    "### ✅ **Conclusions**\n",
    "\n",
    "- We defined **add_numbers** and **subtract_numbers** tools using `@tool`.  \n",
    "- The agent chooses and invokes the correct tool based on your prompt.  \n",
    "- In just a few lines, we have a full “prompt → reasoning → tool call → response” flow.  \n",
    "\n",
    "**Ready for the next orchestration demo!**"
   ]
  }
 ],
 "metadata": {
  "kernelspec": {
   "display_name": "Python 3",
   "language": "python",
   "name": "python3"
  },
  "language_info": {
   "codemirror_mode": {
    "name": "ipython",
    "version": 3
   },
   "file_extension": ".py",
   "mimetype": "text/x-python",
   "name": "python",
   "nbconvert_exporter": "python",
   "pygments_lexer": "ipython3",
   "version": "3.10.11"
  }
 },
 "nbformat": 4,
 "nbformat_minor": 5
}
